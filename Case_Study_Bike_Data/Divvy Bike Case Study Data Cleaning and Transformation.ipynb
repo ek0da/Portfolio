{
 "cells": [
  {
   "cell_type": "code",
   "execution_count": null,
   "id": "397d5814",
   "metadata": {},
   "outputs": [],
   "source": [
    "install.packages('readr')\n",
    "install.packages(\"tidyverse\")\n",
    "install.packages(\"skimr\")\n",
    "install.packages(\"janitor\")\n",
    "install.packages('kimisc')\n",
    "install.packages('dplyr')\n",
    "install.packages('stringr')\n",
    "install.packages('lubridate')\n",
    "install.packages('hms')\n",
    "install.packages('ragtop')\n",
    "install.packages(\"writexl\")\n",
    "install.packages(\"geosphere\")"
   ]
  },
  {
   "cell_type": "code",
   "execution_count": 49,
   "id": "2003aba9",
   "metadata": {},
   "outputs": [
    {
     "name": "stderr",
     "output_type": "stream",
     "text": [
      "Warning message:\n",
      "\"package 'geosphere' was built under R version 4.2.1\"\n"
     ]
    }
   ],
   "source": [
    "library(readr)\n",
    "library(kimisc)\n",
    "library(dplyr)\n",
    "library(stringr)\n",
    "library(tidyverse)\n",
    "library(skimr)\n",
    "library(janitor)\n",
    "library(lubridate)\n",
    "library(hms)\n",
    "library(ragtop)\n",
    "library(writexl)\n",
    "library(geosphere)"
   ]
  },
  {
   "cell_type": "markdown",
   "id": "9c3bdb7e",
   "metadata": {},
   "source": [
    "The business task is to determine how casual riders and Divvy members use Divvy company bikes differently, in order to determine how to convert casual riders into members. In order to do this, we need to find out how casual riders use the bikes, and how members use the bikes. Key stakeholders include:\n",
    "Divvy: A bike-share program that features more than 5,800 bicycles and 600 docking stations. Note: Divvy was purchased by Lyft in 2019.\n",
    "Lily Moreno: The director of marketing and your manager. Moreno is responsible for the development of campaigns and initiatives to promote the bike-share program. These may include email, social media, and other channels.\n",
    "Divvy marketing analytics team: A team of data analysts who are responsible for collecting, analyzing, and reporting data that helps guide Divvy marketing strategy.\n",
    "Divvy executive team: The notoriously detail-oriented executive team will decide whether to approve the recommended marketing program\n"
   ]
  },
  {
   "cell_type": "markdown",
   "id": "d72b1001",
   "metadata": {},
   "source": [
    "The data is located here: https://divvy-tripdata.s3.amazonaws.com/index.html"
   ]
  },
  {
   "cell_type": "markdown",
   "id": "453103fc",
   "metadata": {},
   "source": [
    "Looking at the data, the data is organized in various chunks of time, but there is a continuous stream of data from 2013 through the end of 2021. When looking at data and questioning it's quality, we use ROCCC: The data is reliable because it is first party data collected by the company requesting the analysis. It does not have selection bias, as our question is only looking at current customers, and the dataset includes only customers, and all customer trips during the selected period. The data we will choose is over the course of 2021, as that is a large enough data set post-pandemic."
   ]
  },
  {
   "cell_type": "code",
   "execution_count": 50,
   "id": "16e14fbe",
   "metadata": {},
   "outputs": [
    {
     "name": "stderr",
     "output_type": "stream",
     "text": [
      "\u001b[1mRows: \u001b[22m\u001b[34m96834\u001b[39m \u001b[1mColumns: \u001b[22m\u001b[34m13\u001b[39m\n",
      "\u001b[36m──\u001b[39m \u001b[1mColumn specification\u001b[22m \u001b[36m────────────────────────────────────────────────────────────────────────────────────────────────\u001b[39m\n",
      "\u001b[1mDelimiter:\u001b[22m \",\"\n",
      "\u001b[31mchr\u001b[39m  (7): ride_id, rideable_type, start_station_name, start_station_id, end_...\n",
      "\u001b[32mdbl\u001b[39m  (4): start_lat, start_lng, end_lat, end_lng\n",
      "\u001b[34mdttm\u001b[39m (2): started_at, ended_at\n",
      "\n",
      "\u001b[36mℹ\u001b[39m Use `spec()` to retrieve the full column specification for this data.\n",
      "\u001b[36mℹ\u001b[39m Specify the column types or set `show_col_types = FALSE` to quiet this message.\n",
      "\u001b[1mRows: \u001b[22m\u001b[34m49622\u001b[39m \u001b[1mColumns: \u001b[22m\u001b[34m13\u001b[39m\n",
      "\u001b[36m──\u001b[39m \u001b[1mColumn specification\u001b[22m \u001b[36m────────────────────────────────────────────────────────────────────────────────────────────────\u001b[39m\n",
      "\u001b[1mDelimiter:\u001b[22m \",\"\n",
      "\u001b[31mchr\u001b[39m  (7): ride_id, rideable_type, start_station_name, start_station_id, end_...\n",
      "\u001b[32mdbl\u001b[39m  (4): start_lat, start_lng, end_lat, end_lng\n",
      "\u001b[34mdttm\u001b[39m (2): started_at, ended_at\n",
      "\n",
      "\u001b[36mℹ\u001b[39m Use `spec()` to retrieve the full column specification for this data.\n",
      "\u001b[36mℹ\u001b[39m Specify the column types or set `show_col_types = FALSE` to quiet this message.\n",
      "\u001b[1mRows: \u001b[22m\u001b[34m228496\u001b[39m \u001b[1mColumns: \u001b[22m\u001b[34m13\u001b[39m\n",
      "\u001b[36m──\u001b[39m \u001b[1mColumn specification\u001b[22m \u001b[36m────────────────────────────────────────────────────────────────────────────────────────────────\u001b[39m\n",
      "\u001b[1mDelimiter:\u001b[22m \",\"\n",
      "\u001b[31mchr\u001b[39m  (7): ride_id, rideable_type, start_station_name, start_station_id, end_...\n",
      "\u001b[32mdbl\u001b[39m  (4): start_lat, start_lng, end_lat, end_lng\n",
      "\u001b[34mdttm\u001b[39m (2): started_at, ended_at\n",
      "\n",
      "\u001b[36mℹ\u001b[39m Use `spec()` to retrieve the full column specification for this data.\n",
      "\u001b[36mℹ\u001b[39m Specify the column types or set `show_col_types = FALSE` to quiet this message.\n",
      "\u001b[1mRows: \u001b[22m\u001b[34m337230\u001b[39m \u001b[1mColumns: \u001b[22m\u001b[34m13\u001b[39m\n",
      "\u001b[36m──\u001b[39m \u001b[1mColumn specification\u001b[22m \u001b[36m────────────────────────────────────────────────────────────────────────────────────────────────\u001b[39m\n",
      "\u001b[1mDelimiter:\u001b[22m \",\"\n",
      "\u001b[31mchr\u001b[39m  (7): ride_id, rideable_type, start_station_name, start_station_id, end_...\n",
      "\u001b[32mdbl\u001b[39m  (4): start_lat, start_lng, end_lat, end_lng\n",
      "\u001b[34mdttm\u001b[39m (2): started_at, ended_at\n",
      "\n",
      "\u001b[36mℹ\u001b[39m Use `spec()` to retrieve the full column specification for this data.\n",
      "\u001b[36mℹ\u001b[39m Specify the column types or set `show_col_types = FALSE` to quiet this message.\n",
      "\u001b[1mRows: \u001b[22m\u001b[34m531633\u001b[39m \u001b[1mColumns: \u001b[22m\u001b[34m13\u001b[39m\n",
      "\u001b[36m──\u001b[39m \u001b[1mColumn specification\u001b[22m \u001b[36m────────────────────────────────────────────────────────────────────────────────────────────────\u001b[39m\n",
      "\u001b[1mDelimiter:\u001b[22m \",\"\n",
      "\u001b[31mchr\u001b[39m  (7): ride_id, rideable_type, start_station_name, start_station_id, end_...\n",
      "\u001b[32mdbl\u001b[39m  (4): start_lat, start_lng, end_lat, end_lng\n",
      "\u001b[34mdttm\u001b[39m (2): started_at, ended_at\n",
      "\n",
      "\u001b[36mℹ\u001b[39m Use `spec()` to retrieve the full column specification for this data.\n",
      "\u001b[36mℹ\u001b[39m Specify the column types or set `show_col_types = FALSE` to quiet this message.\n",
      "\u001b[1mRows: \u001b[22m\u001b[34m729595\u001b[39m \u001b[1mColumns: \u001b[22m\u001b[34m13\u001b[39m\n",
      "\u001b[36m──\u001b[39m \u001b[1mColumn specification\u001b[22m \u001b[36m────────────────────────────────────────────────────────────────────────────────────────────────\u001b[39m\n",
      "\u001b[1mDelimiter:\u001b[22m \",\"\n",
      "\u001b[31mchr\u001b[39m  (7): ride_id, rideable_type, start_station_name, start_station_id, end_...\n",
      "\u001b[32mdbl\u001b[39m  (4): start_lat, start_lng, end_lat, end_lng\n",
      "\u001b[34mdttm\u001b[39m (2): started_at, ended_at\n",
      "\n",
      "\u001b[36mℹ\u001b[39m Use `spec()` to retrieve the full column specification for this data.\n",
      "\u001b[36mℹ\u001b[39m Specify the column types or set `show_col_types = FALSE` to quiet this message.\n",
      "\u001b[1mRows: \u001b[22m\u001b[34m822410\u001b[39m \u001b[1mColumns: \u001b[22m\u001b[34m13\u001b[39m\n",
      "\u001b[36m──\u001b[39m \u001b[1mColumn specification\u001b[22m \u001b[36m────────────────────────────────────────────────────────────────────────────────────────────────\u001b[39m\n",
      "\u001b[1mDelimiter:\u001b[22m \",\"\n",
      "\u001b[31mchr\u001b[39m  (7): ride_id, rideable_type, start_station_name, start_station_id, end_...\n",
      "\u001b[32mdbl\u001b[39m  (4): start_lat, start_lng, end_lat, end_lng\n",
      "\u001b[34mdttm\u001b[39m (2): started_at, ended_at\n",
      "\n",
      "\u001b[36mℹ\u001b[39m Use `spec()` to retrieve the full column specification for this data.\n",
      "\u001b[36mℹ\u001b[39m Specify the column types or set `show_col_types = FALSE` to quiet this message.\n",
      "\u001b[1mRows: \u001b[22m\u001b[34m804352\u001b[39m \u001b[1mColumns: \u001b[22m\u001b[34m13\u001b[39m\n",
      "\u001b[36m──\u001b[39m \u001b[1mColumn specification\u001b[22m \u001b[36m────────────────────────────────────────────────────────────────────────────────────────────────\u001b[39m\n",
      "\u001b[1mDelimiter:\u001b[22m \",\"\n",
      "\u001b[31mchr\u001b[39m  (7): ride_id, rideable_type, start_station_name, start_station_id, end_...\n",
      "\u001b[32mdbl\u001b[39m  (4): start_lat, start_lng, end_lat, end_lng\n",
      "\u001b[34mdttm\u001b[39m (2): started_at, ended_at\n",
      "\n",
      "\u001b[36mℹ\u001b[39m Use `spec()` to retrieve the full column specification for this data.\n",
      "\u001b[36mℹ\u001b[39m Specify the column types or set `show_col_types = FALSE` to quiet this message.\n",
      "\u001b[1mRows: \u001b[22m\u001b[34m756147\u001b[39m \u001b[1mColumns: \u001b[22m\u001b[34m13\u001b[39m\n",
      "\u001b[36m──\u001b[39m \u001b[1mColumn specification\u001b[22m \u001b[36m────────────────────────────────────────────────────────────────────────────────────────────────\u001b[39m\n",
      "\u001b[1mDelimiter:\u001b[22m \",\"\n",
      "\u001b[31mchr\u001b[39m  (7): ride_id, rideable_type, start_station_name, start_station_id, end_...\n",
      "\u001b[32mdbl\u001b[39m  (4): start_lat, start_lng, end_lat, end_lng\n",
      "\u001b[34mdttm\u001b[39m (2): started_at, ended_at\n",
      "\n",
      "\u001b[36mℹ\u001b[39m Use `spec()` to retrieve the full column specification for this data.\n",
      "\u001b[36mℹ\u001b[39m Specify the column types or set `show_col_types = FALSE` to quiet this message.\n",
      "\u001b[1mRows: \u001b[22m\u001b[34m631226\u001b[39m \u001b[1mColumns: \u001b[22m\u001b[34m13\u001b[39m\n",
      "\u001b[36m──\u001b[39m \u001b[1mColumn specification\u001b[22m \u001b[36m────────────────────────────────────────────────────────────────────────────────────────────────\u001b[39m\n",
      "\u001b[1mDelimiter:\u001b[22m \",\"\n",
      "\u001b[31mchr\u001b[39m  (7): ride_id, rideable_type, start_station_name, start_station_id, end_...\n",
      "\u001b[32mdbl\u001b[39m  (4): start_lat, start_lng, end_lat, end_lng\n",
      "\u001b[34mdttm\u001b[39m (2): started_at, ended_at\n",
      "\n",
      "\u001b[36mℹ\u001b[39m Use `spec()` to retrieve the full column specification for this data.\n",
      "\u001b[36mℹ\u001b[39m Specify the column types or set `show_col_types = FALSE` to quiet this message.\n",
      "\u001b[1mRows: \u001b[22m\u001b[34m359978\u001b[39m \u001b[1mColumns: \u001b[22m\u001b[34m13\u001b[39m\n",
      "\u001b[36m──\u001b[39m \u001b[1mColumn specification\u001b[22m \u001b[36m────────────────────────────────────────────────────────────────────────────────────────────────\u001b[39m\n",
      "\u001b[1mDelimiter:\u001b[22m \",\"\n",
      "\u001b[31mchr\u001b[39m  (7): ride_id, rideable_type, start_station_name, start_station_id, end_...\n",
      "\u001b[32mdbl\u001b[39m  (4): start_lat, start_lng, end_lat, end_lng\n",
      "\u001b[34mdttm\u001b[39m (2): started_at, ended_at\n",
      "\n",
      "\u001b[36mℹ\u001b[39m Use `spec()` to retrieve the full column specification for this data.\n",
      "\u001b[36mℹ\u001b[39m Specify the column types or set `show_col_types = FALSE` to quiet this message.\n",
      "\u001b[1mRows: \u001b[22m\u001b[34m247540\u001b[39m \u001b[1mColumns: \u001b[22m\u001b[34m13\u001b[39m\n",
      "\u001b[36m──\u001b[39m \u001b[1mColumn specification\u001b[22m \u001b[36m────────────────────────────────────────────────────────────────────────────────────────────────\u001b[39m\n",
      "\u001b[1mDelimiter:\u001b[22m \",\"\n",
      "\u001b[31mchr\u001b[39m  (7): ride_id, rideable_type, start_station_name, start_station_id, end_...\n",
      "\u001b[32mdbl\u001b[39m  (4): start_lat, start_lng, end_lat, end_lng\n",
      "\u001b[34mdttm\u001b[39m (2): started_at, ended_at\n",
      "\n",
      "\u001b[36mℹ\u001b[39m Use `spec()` to retrieve the full column specification for this data.\n",
      "\u001b[36mℹ\u001b[39m Specify the column types or set `show_col_types = FALSE` to quiet this message.\n"
     ]
    }
   ],
   "source": [
    "# First, we import the data and replace any blank cells with NAs. \n",
    "raw_data <- rbind(read_csv(\"Divvy Trip Data 2021/202101-divvy-tripdata.csv\", na=c(\"\",\" \",\"NA\")),\n",
    "                  read_csv(\"Divvy Trip Data 2021/202102-divvy-tripdata.csv\", na=c(\"\",\" \",\"NA\")),\n",
    "                  read_csv(\"Divvy Trip Data 2021/202103-divvy-tripdata.csv\", na=c(\"\",\" \",\"NA\")),\n",
    "                  read_csv(\"Divvy Trip Data 2021/202104-divvy-tripdata.csv\", na=c(\"\",\" \",\"NA\")),\n",
    "                  read_csv(\"Divvy Trip Data 2021/202105-divvy-tripdata.csv\", na=c(\"\",\" \",\"NA\")),\n",
    "                  read_csv(\"Divvy Trip Data 2021/202106-divvy-tripdata.csv\", na=c(\"\",\" \",\"NA\")),\n",
    "                  read_csv(\"Divvy Trip Data 2021/202107-divvy-tripdata.csv\", na=c(\"\",\" \",\"NA\")),\n",
    "                  read_csv(\"Divvy Trip Data 2021/202108-divvy-tripdata.csv\", na=c(\"\",\" \",\"NA\")),\n",
    "                  read_csv(\"Divvy Trip Data 2021/202109-divvy-tripdata.csv\", na=c(\"\",\" \",\"NA\")),\n",
    "                  read_csv(\"Divvy Trip Data 2021/202110-divvy-tripdata.csv\", na=c(\"\",\" \",\"NA\")),\n",
    "                  read_csv(\"Divvy Trip Data 2021/202111-divvy-tripdata.csv\", na=c(\"\",\" \",\"NA\")),\n",
    "                  read_csv(\"Divvy Trip Data 2021/202112-divvy-tripdata.csv\", na=c(\"\",\" \",\"NA\")))"
   ]
  },
  {
   "cell_type": "code",
   "execution_count": 61,
   "id": "e0ddfde7",
   "metadata": {},
   "outputs": [
    {
     "name": "stdout",
     "output_type": "stream",
     "text": [
      "Rows: 5,595,063\n",
      "Columns: 15\n",
      "$ ride_id            \u001b[3m\u001b[90m<chr>\u001b[39m\u001b[23m \"E19E6F1B8D4C42ED\", \"DC88F20C2C55F27F\", \"EC45C94683…\n",
      "$ rideable_type      \u001b[3m\u001b[90m<chr>\u001b[39m\u001b[23m \"electric_bike\", \"electric_bike\", \"electric_bike\", …\n",
      "$ started_at         \u001b[3m\u001b[90m<dttm>\u001b[39m\u001b[23m 2021-01-23 16:14:19, 2021-01-27 18:43:08, 2021-01-…\n",
      "$ ended_at           \u001b[3m\u001b[90m<dttm>\u001b[39m\u001b[23m 2021-01-23 16:24:44, 2021-01-27 18:47:12, 2021-01-…\n",
      "$ start_station_name \u001b[3m\u001b[90m<chr>\u001b[39m\u001b[23m \"California Ave & Cortez St\", \"California Ave & Cor…\n",
      "$ start_station_id   \u001b[3m\u001b[90m<chr>\u001b[39m\u001b[23m \"17660\", \"17660\", \"17660\", \"17660\", \"17660\", \"17660…\n",
      "$ end_station_name   \u001b[3m\u001b[90m<chr>\u001b[39m\u001b[23m NA, NA, NA, NA, NA, NA, NA, NA, NA, \"Wood St & Augu…\n",
      "$ end_station_id     \u001b[3m\u001b[90m<chr>\u001b[39m\u001b[23m NA, NA, NA, NA, NA, NA, NA, NA, NA, \"657\", \"13258\",…\n",
      "$ start_lat          \u001b[3m\u001b[90m<dbl>\u001b[39m\u001b[23m 41.90034, 41.90033, 41.90031, 41.90040, 41.90033, 4…\n",
      "$ start_lng          \u001b[3m\u001b[90m<dbl>\u001b[39m\u001b[23m -87.69674, -87.69671, -87.69664, -87.69666, -87.696…\n",
      "$ end_lat            \u001b[3m\u001b[90m<dbl>\u001b[39m\u001b[23m 41.89000, 41.90000, 41.90000, 41.92000, 41.90000, 4…\n",
      "$ end_lng            \u001b[3m\u001b[90m<dbl>\u001b[39m\u001b[23m -87.72000, -87.69000, -87.70000, -87.69000, -87.700…\n",
      "$ member_casual      \u001b[3m\u001b[90m<chr>\u001b[39m\u001b[23m \"member\", \"member\", \"member\", \"member\", \"casual\", \"…\n",
      "$ ride_length        \u001b[3m\u001b[90m<int>\u001b[39m\u001b[23m 625, 244, 80, 702, 43, 3227, 335, 400, 151, 433, 27…\n",
      "$ ride_distance      \u001b[3m\u001b[90m<dbl>\u001b[39m\u001b[23m 2589.36652, 746.62131, 373.73925, 746.81070, 367.67…\n"
     ]
    }
   ],
   "source": [
    "glimpse(raw_data)"
   ]
  },
  {
   "cell_type": "code",
   "execution_count": 69,
   "id": "43073686",
   "metadata": {},
   "outputs": [],
   "source": [
    "# Next, we calc. the length of each ride in seconds\n",
    "raw_data$ride_length <- as.integer(difftime(raw_data$ended_at, raw_data$started_at, units=\"secs\"))\n",
    "# And we calc.the distance of each ride in meters\n",
    "raw_data$ride_distance <- distHaversine(raw_data[,9:10], raw_data[,11:12]) \n",
    "# And store the time, date, day, month and year of the ride.\n",
    "raw_data$time <-  format(as.POSIXct(raw_data$started_at), format = \"%H:%M:%S\")\n",
    "raw_data$date <- as.Date(raw_data$started_at) \n",
    "raw_data$month <- format(as.Date(raw_data$date), \"%m\")\n",
    "raw_data$day <- format(as.Date(raw_data$date), \"%d\")\n",
    "raw_data$year <- format(as.Date(raw_data$date), \"%Y\")\n",
    "# Then, we create a column designating what day of the week the ride took place on. \n",
    "raw_data$day_of_week <- weekdays(as.Date(raw_data$date))\n",
    "# Next, we remove any rows that are entirely blank.\n",
    "raw_data <- raw_data[rowSums(is.na(raw_data)) != ncol(raw_data),]"
   ]
  },
  {
   "cell_type": "code",
   "execution_count": 70,
   "id": "75b6627b",
   "metadata": {},
   "outputs": [
    {
     "name": "stdout",
     "output_type": "stream",
     "text": [
      "tibble [5,595,063 × 21] (S3: tbl_df/tbl/data.frame)\n",
      " $ ride_id           : chr [1:5595063] \"E19E6F1B8D4C42ED\" \"DC88F20C2C55F27F\" \"EC45C94683FE3F27\" \"4FA453A75AE377DB\" ...\n",
      " $ rideable_type     : chr [1:5595063] \"electric_bike\" \"electric_bike\" \"electric_bike\" \"electric_bike\" ...\n",
      " $ started_at        : POSIXct[1:5595063], format: \"2021-01-23 16:14:19\" \"2021-01-27 18:43:08\" ...\n",
      " $ ended_at          : POSIXct[1:5595063], format: \"2021-01-23 16:24:44\" \"2021-01-27 18:47:12\" ...\n",
      " $ start_station_name: chr [1:5595063] \"California Ave & Cortez St\" \"California Ave & Cortez St\" \"California Ave & Cortez St\" \"California Ave & Cortez St\" ...\n",
      " $ start_station_id  : chr [1:5595063] \"17660\" \"17660\" \"17660\" \"17660\" ...\n",
      " $ end_station_name  : chr [1:5595063] NA NA NA NA ...\n",
      " $ end_station_id    : chr [1:5595063] NA NA NA NA ...\n",
      " $ start_lat         : num [1:5595063] 41.9 41.9 41.9 41.9 41.9 ...\n",
      " $ start_lng         : num [1:5595063] -87.7 -87.7 -87.7 -87.7 -87.7 ...\n",
      " $ end_lat           : num [1:5595063] 41.9 41.9 41.9 41.9 41.9 ...\n",
      " $ end_lng           : num [1:5595063] -87.7 -87.7 -87.7 -87.7 -87.7 ...\n",
      " $ member_casual     : chr [1:5595063] \"member\" \"member\" \"member\" \"member\" ...\n",
      " $ ride_length       : int [1:5595063] 625 244 80 702 43 3227 335 400 151 433 ...\n",
      " $ ride_distance     : num [1:5595063] 2589 747 374 747 368 ...\n",
      " $ time              : chr [1:5595063] \"16:14:19\" \"18:43:08\" \"22:35:54\" \"13:31:13\" ...\n",
      " $ date              : Date[1:5595063], format: \"2021-01-23\" \"2021-01-27\" ...\n",
      " $ month             : chr [1:5595063] \"01\" \"01\" \"01\" \"01\" ...\n",
      " $ day               : chr [1:5595063] \"23\" \"27\" \"21\" \"07\" ...\n",
      " $ year              : chr [1:5595063] \"2021\" \"2021\" \"2021\" \"2021\" ...\n",
      " $ day_of_week       : chr [1:5595063] \"Saturday\" \"Wednesday\" \"Thursday\" \"Thursday\" ...\n"
     ]
    }
   ],
   "source": [
    "str(raw_data)"
   ]
  },
  {
   "cell_type": "code",
   "execution_count": 86,
   "id": "d2cd2181",
   "metadata": {},
   "outputs": [
    {
     "data": {
      "text/html": [
       "'The longest member ride distance is: 1 meters'"
      ],
      "text/latex": [
       "'The longest member ride distance is: 1 meters'"
      ],
      "text/markdown": [
       "'The longest member ride distance is: 1 meters'"
      ],
      "text/plain": [
       "[1] \"The longest member ride distance is: 1 meters\""
      ]
     },
     "metadata": {},
     "output_type": "display_data"
    }
   ],
   "source": [
    "sprintf(\"The longest member ride distance is: %d meters\", \n",
    "        as.integer(max(as.integer(!is.na(raw_data$ride_distance)))))"
   ]
  },
  {
   "cell_type": "code",
   "execution_count": 71,
   "id": "d91bf0b4",
   "metadata": {},
   "outputs": [],
   "source": [
    "# Let's split the data into member and casual rides, and look at the max, min, mean and median of each.\n",
    "member_data <- subset(raw_data, raw_data$member_casual == \"member\") \n",
    "casual_data <- subset(raw_data, raw_data$member_casual == \"casual\") "
   ]
  },
  {
   "cell_type": "code",
   "execution_count": 72,
   "id": "51cdf5fc",
   "metadata": {},
   "outputs": [
    {
     "data": {
      "text/html": [
       "'The mean of member ride length is: 817 seconds'"
      ],
      "text/latex": [
       "'The mean of member ride length is: 817 seconds'"
      ],
      "text/markdown": [
       "'The mean of member ride length is: 817 seconds'"
      ],
      "text/plain": [
       "[1] \"The mean of member ride length is: 817 seconds\""
      ]
     },
     "metadata": {},
     "output_type": "display_data"
    },
    {
     "data": {
      "text/html": [
       "'The mean of casual ride length is: 1920 seconds'"
      ],
      "text/latex": [
       "'The mean of casual ride length is: 1920 seconds'"
      ],
      "text/markdown": [
       "'The mean of casual ride length is: 1920 seconds'"
      ],
      "text/plain": [
       "[1] \"The mean of casual ride length is: 1920 seconds\""
      ]
     },
     "metadata": {},
     "output_type": "display_data"
    },
    {
     "data": {
      "text/html": [
       "'The median of member ride length is: 576 seconds'"
      ],
      "text/latex": [
       "'The median of member ride length is: 576 seconds'"
      ],
      "text/markdown": [
       "'The median of member ride length is: 576 seconds'"
      ],
      "text/plain": [
       "[1] \"The median of member ride length is: 576 seconds\""
      ]
     },
     "metadata": {},
     "output_type": "display_data"
    },
    {
     "data": {
      "text/html": [
       "'The median of casual ride length is: 958 seconds'"
      ],
      "text/latex": [
       "'The median of casual ride length is: 958 seconds'"
      ],
      "text/markdown": [
       "'The median of casual ride length is: 958 seconds'"
      ],
      "text/plain": [
       "[1] \"The median of casual ride length is: 958 seconds\""
      ]
     },
     "metadata": {},
     "output_type": "display_data"
    },
    {
     "data": {
      "text/html": [
       "'The longest member ride length is: 93596 seconds'"
      ],
      "text/latex": [
       "'The longest member ride length is: 93596 seconds'"
      ],
      "text/markdown": [
       "'The longest member ride length is: 93596 seconds'"
      ],
      "text/plain": [
       "[1] \"The longest member ride length is: 93596 seconds\""
      ]
     },
     "metadata": {},
     "output_type": "display_data"
    },
    {
     "data": {
      "text/html": [
       "'The longest casual ride length is: 3356649 seconds'"
      ],
      "text/latex": [
       "'The longest casual ride length is: 3356649 seconds'"
      ],
      "text/markdown": [
       "'The longest casual ride length is: 3356649 seconds'"
      ],
      "text/plain": [
       "[1] \"The longest casual ride length is: 3356649 seconds\""
      ]
     },
     "metadata": {},
     "output_type": "display_data"
    },
    {
     "data": {
      "text/html": [
       "'The longest member ride length is: -3245 seconds'"
      ],
      "text/latex": [
       "'The longest member ride length is: -3245 seconds'"
      ],
      "text/markdown": [
       "'The longest member ride length is: -3245 seconds'"
      ],
      "text/plain": [
       "[1] \"The longest member ride length is: -3245 seconds\""
      ]
     },
     "metadata": {},
     "output_type": "display_data"
    },
    {
     "data": {
      "text/html": [
       "'The longest casual ride length is: -3482 seconds'"
      ],
      "text/latex": [
       "'The longest casual ride length is: -3482 seconds'"
      ],
      "text/markdown": [
       "'The longest casual ride length is: -3482 seconds'"
      ],
      "text/plain": [
       "[1] \"The longest casual ride length is: -3482 seconds\""
      ]
     },
     "metadata": {},
     "output_type": "display_data"
    }
   ],
   "source": [
    "sprintf(\"The mean of member ride length is: %d seconds\", \n",
    "        as.integer(mean(as.integer(member_data$ride_length))))\n",
    "sprintf(\"The mean of casual ride length is: %d seconds\", \n",
    "        as.integer(mean(as.integer(casual_data$ride_length))))\n",
    "\n",
    "sprintf(\"The median of member ride length is: %d seconds\", \n",
    "        as.integer(median(as.integer(member_data$ride_length))))\n",
    "sprintf(\"The median of casual ride length is: %d seconds\", \n",
    "        as.integer(median(as.integer(casual_data$ride_length))))\n",
    "\n",
    "sprintf(\"The longest member ride length is: %d seconds\", \n",
    "        as.integer(max(as.integer(member_data$ride_length))))\n",
    "sprintf(\"The longest casual ride length is: %d seconds\", \n",
    "        as.integer(max(as.integer(casual_data$ride_length))))\n",
    "\n",
    "sprintf(\"The longest member ride length is: %d seconds\", \n",
    "        as.integer(min(as.integer(member_data$ride_length))))\n",
    "sprintf(\"The longest casual ride length is: %d seconds\", \n",
    "        as.integer(min(as.integer(casual_data$ride_length))))"
   ]
  },
  {
   "cell_type": "code",
   "execution_count": 73,
   "id": "cbe7829c",
   "metadata": {},
   "outputs": [],
   "source": [
    "# We can see that some rides have a negative ride length, and the longest ride has a duration of 38.85 days.\n",
    "# So, let's remove any rides that have a negative ride length, or are over 24 hours long.\n",
    "# (This is still a very generous upper max for ride length, but it ensures that riders that are docking their \n",
    "# bikes and come back after work are always counted.)\n",
    "raw_data <- raw_data[raw_data$ride_length >= 0 | raw_data$ride_length < 60*60*24,]"
   ]
  },
  {
   "cell_type": "code",
   "execution_count": 74,
   "id": "bd428c3f",
   "metadata": {},
   "outputs": [
    {
     "name": "stdout",
     "output_type": "stream",
     "text": [
      "tibble [5,595,063 × 21] (S3: tbl_df/tbl/data.frame)\n",
      " $ ride_id           : chr [1:5595063] \"E19E6F1B8D4C42ED\" \"DC88F20C2C55F27F\" \"EC45C94683FE3F27\" \"4FA453A75AE377DB\" ...\n",
      " $ rideable_type     : chr [1:5595063] \"electric_bike\" \"electric_bike\" \"electric_bike\" \"electric_bike\" ...\n",
      " $ started_at        : POSIXct[1:5595063], format: \"2021-01-23 16:14:19\" \"2021-01-27 18:43:08\" ...\n",
      " $ ended_at          : POSIXct[1:5595063], format: \"2021-01-23 16:24:44\" \"2021-01-27 18:47:12\" ...\n",
      " $ start_station_name: chr [1:5595063] \"California Ave & Cortez St\" \"California Ave & Cortez St\" \"California Ave & Cortez St\" \"California Ave & Cortez St\" ...\n",
      " $ start_station_id  : chr [1:5595063] \"17660\" \"17660\" \"17660\" \"17660\" ...\n",
      " $ end_station_name  : chr [1:5595063] NA NA NA NA ...\n",
      " $ end_station_id    : chr [1:5595063] NA NA NA NA ...\n",
      " $ start_lat         : num [1:5595063] 41.9 41.9 41.9 41.9 41.9 ...\n",
      " $ start_lng         : num [1:5595063] -87.7 -87.7 -87.7 -87.7 -87.7 ...\n",
      " $ end_lat           : num [1:5595063] 41.9 41.9 41.9 41.9 41.9 ...\n",
      " $ end_lng           : num [1:5595063] -87.7 -87.7 -87.7 -87.7 -87.7 ...\n",
      " $ member_casual     : chr [1:5595063] \"member\" \"member\" \"member\" \"member\" ...\n",
      " $ ride_length       : int [1:5595063] 625 244 80 702 43 3227 335 400 151 433 ...\n",
      " $ ride_distance     : num [1:5595063] 2589 747 374 747 368 ...\n",
      " $ time              : chr [1:5595063] \"16:14:19\" \"18:43:08\" \"22:35:54\" \"13:31:13\" ...\n",
      " $ date              : Date[1:5595063], format: \"2021-01-23\" \"2021-01-27\" ...\n",
      " $ month             : chr [1:5595063] \"01\" \"01\" \"01\" \"01\" ...\n",
      " $ day               : chr [1:5595063] \"23\" \"27\" \"21\" \"07\" ...\n",
      " $ year              : chr [1:5595063] \"2021\" \"2021\" \"2021\" \"2021\" ...\n",
      " $ day_of_week       : chr [1:5595063] \"Saturday\" \"Wednesday\" \"Thursday\" \"Thursday\" ...\n"
     ]
    }
   ],
   "source": [
    "str(raw_data)"
   ]
  },
  {
   "cell_type": "code",
   "execution_count": 75,
   "id": "a97c46a4",
   "metadata": {},
   "outputs": [
    {
     "data": {
      "text/html": [
       "'the number of ride IDs is: 5595063'"
      ],
      "text/latex": [
       "'the number of ride IDs is: 5595063'"
      ],
      "text/markdown": [
       "'the number of ride IDs is: 5595063'"
      ],
      "text/plain": [
       "[1] \"the number of ride IDs is: 5595063\""
      ]
     },
     "metadata": {},
     "output_type": "display_data"
    },
    {
     "data": {
      "text/html": [
       "'The number of rides in the dataset is: 5595063'"
      ],
      "text/latex": [
       "'The number of rides in the dataset is: 5595063'"
      ],
      "text/markdown": [
       "'The number of rides in the dataset is: 5595063'"
      ],
      "text/plain": [
       "[1] \"The number of rides in the dataset is: 5595063\""
      ]
     },
     "metadata": {},
     "output_type": "display_data"
    },
    {
     "name": "stdout",
     "output_type": "stream",
     "text": [
      "[1] \"electric_bike\" \"classic_bike\"  \"docked_bike\"  \n"
     ]
    },
    {
     "data": {
      "text/html": [
       "'The most recent ride in the dataset took place at: 2022-01-03 17:32:18'"
      ],
      "text/latex": [
       "'The most recent ride in the dataset took place at: 2022-01-03 17:32:18'"
      ],
      "text/markdown": [
       "'The most recent ride in the dataset took place at: 2022-01-03 17:32:18'"
      ],
      "text/plain": [
       "[1] \"The most recent ride in the dataset took place at: 2022-01-03 17:32:18\""
      ]
     },
     "metadata": {},
     "output_type": "display_data"
    },
    {
     "data": {
      "text/html": [
       "'The least recent ride in the dataset took place at: 2021-01-01 00:02:05'"
      ],
      "text/latex": [
       "'The least recent ride in the dataset took place at: 2021-01-01 00:02:05'"
      ],
      "text/markdown": [
       "'The least recent ride in the dataset took place at: 2021-01-01 00:02:05'"
      ],
      "text/plain": [
       "[1] \"The least recent ride in the dataset took place at: 2021-01-01 00:02:05\""
      ]
     },
     "metadata": {},
     "output_type": "display_data"
    }
   ],
   "source": [
    "# Now, let's look at the rest of the variables. It's important to validate our data before we analyze it,\n",
    "# because if it's not in the correct format, or it's incorrect it can ruin the analysis. \n",
    "\n",
    "# The ride_id is the primary key, and so each value should be unique, so we should expect there to be \n",
    "# as many different ride ID's as there are rides in the dataset:\n",
    "sprintf('the number of ride IDs is: %d', length(unique(raw_data$ride_id)))\n",
    "sprintf(\"The number of rides in the dataset is: %d\", nrow(raw_data))\n",
    "\n",
    "# Divvy offers electric and regular bikes, \n",
    "# and looking at Divvy's website there is also the option to dock a bike to reserve it for later use.\n",
    "print(unique(raw_data$rideable_type))\n",
    "\n",
    "# All start and stop times for each ride should be during the year 2021:\n",
    "sprintf(\"The most recent ride in the dataset took place at: %s\", \n",
    "        max(raw_data$ended_at))\n",
    "sprintf(\"The least recent ride in the dataset took place at: %s\", \n",
    "        min(raw_data$started_at))\n",
    "\n",
    "# We see that there is at least one ride that finished in 2022. So, lets filter out any rides not in 2021: \n",
    "raw_data <- raw_data[raw_data$year == \"2021\",]\n",
    "\n",
    "# Next, we know that customers can start or stop their ride from any location that has a bike, \n",
    "# whether or not that location is a station. However, let's see if there\n",
    "# are any incosistancies in the station names or ID's:"
   ]
  },
  {
   "cell_type": "code",
   "execution_count": 76,
   "id": "d4402701",
   "metadata": {},
   "outputs": [
    {
     "data": {
      "text/html": [
       "<table class=\"dataframe\">\n",
       "<caption>A tibble: 3 × 21</caption>\n",
       "<thead>\n",
       "\t<tr><th scope=col>ride_id</th><th scope=col>rideable_type</th><th scope=col>started_at</th><th scope=col>ended_at</th><th scope=col>start_station_name</th><th scope=col>start_station_id</th><th scope=col>end_station_name</th><th scope=col>end_station_id</th><th scope=col>start_lat</th><th scope=col>start_lng</th><th scope=col>⋯</th><th scope=col>end_lng</th><th scope=col>member_casual</th><th scope=col>ride_length</th><th scope=col>ride_distance</th><th scope=col>time</th><th scope=col>date</th><th scope=col>month</th><th scope=col>day</th><th scope=col>year</th><th scope=col>day_of_week</th></tr>\n",
       "\t<tr><th scope=col>&lt;chr&gt;</th><th scope=col>&lt;chr&gt;</th><th scope=col>&lt;dttm&gt;</th><th scope=col>&lt;dttm&gt;</th><th scope=col>&lt;chr&gt;</th><th scope=col>&lt;chr&gt;</th><th scope=col>&lt;chr&gt;</th><th scope=col>&lt;chr&gt;</th><th scope=col>&lt;dbl&gt;</th><th scope=col>&lt;dbl&gt;</th><th scope=col>⋯</th><th scope=col>&lt;dbl&gt;</th><th scope=col>&lt;chr&gt;</th><th scope=col>&lt;int&gt;</th><th scope=col>&lt;dbl&gt;</th><th scope=col>&lt;chr&gt;</th><th scope=col>&lt;date&gt;</th><th scope=col>&lt;chr&gt;</th><th scope=col>&lt;chr&gt;</th><th scope=col>&lt;chr&gt;</th><th scope=col>&lt;chr&gt;</th></tr>\n",
       "</thead>\n",
       "<tbody>\n",
       "\t<tr><td>176105D1F8A1216B</td><td>electric_bike</td><td>2021-07-18 03:44:22</td><td>2021-07-18 04:12:23</td><td>NA</td><td>13221 </td><td>NA                     </td><td>NA   </td><td>41.90765</td><td>-87.67255</td><td>⋯</td><td>-87.74000</td><td>casual</td><td>1681</td><td>7510.64631</td><td>03:44:22</td><td>2021-07-18</td><td>07</td><td>18</td><td>2021</td><td>Sunday   </td></tr>\n",
       "\t<tr><td>DE82A15026BA3056</td><td>electric_bike</td><td>2021-09-21 18:18:59</td><td>2021-09-21 18:21:48</td><td>NA</td><td>20215 </td><td>Hegewisch Metra Station</td><td>20215</td><td>41.64850</td><td>-87.54609</td><td>⋯</td><td>-87.54625</td><td>casual</td><td> 169</td><td>  17.89034</td><td>18:18:59</td><td>2021-09-21</td><td>09</td><td>21</td><td>2021</td><td>Tuesday  </td></tr>\n",
       "\t<tr><td>EE197EDA4CF8CFE5</td><td>electric_bike</td><td>2021-09-22 07:14:42</td><td>2021-09-22 07:22:38</td><td>NA</td><td>WL-008</td><td>NA                     </td><td>NA   </td><td>41.86712</td><td>-87.64109</td><td>⋯</td><td>-87.64000</td><td>casual</td><td> 476</td><td> 134.63987</td><td>07:14:42</td><td>2021-09-22</td><td>09</td><td>22</td><td>2021</td><td>Wednesday</td></tr>\n",
       "</tbody>\n",
       "</table>\n"
      ],
      "text/latex": [
       "A tibble: 3 × 21\n",
       "\\begin{tabular}{lllllllllllllllllllll}\n",
       " ride\\_id & rideable\\_type & started\\_at & ended\\_at & start\\_station\\_name & start\\_station\\_id & end\\_station\\_name & end\\_station\\_id & start\\_lat & start\\_lng & ⋯ & end\\_lng & member\\_casual & ride\\_length & ride\\_distance & time & date & month & day & year & day\\_of\\_week\\\\\n",
       " <chr> & <chr> & <dttm> & <dttm> & <chr> & <chr> & <chr> & <chr> & <dbl> & <dbl> & ⋯ & <dbl> & <chr> & <int> & <dbl> & <chr> & <date> & <chr> & <chr> & <chr> & <chr>\\\\\n",
       "\\hline\n",
       "\t 176105D1F8A1216B & electric\\_bike & 2021-07-18 03:44:22 & 2021-07-18 04:12:23 & NA & 13221  & NA                      & NA    & 41.90765 & -87.67255 & ⋯ & -87.74000 & casual & 1681 & 7510.64631 & 03:44:22 & 2021-07-18 & 07 & 18 & 2021 & Sunday   \\\\\n",
       "\t DE82A15026BA3056 & electric\\_bike & 2021-09-21 18:18:59 & 2021-09-21 18:21:48 & NA & 20215  & Hegewisch Metra Station & 20215 & 41.64850 & -87.54609 & ⋯ & -87.54625 & casual &  169 &   17.89034 & 18:18:59 & 2021-09-21 & 09 & 21 & 2021 & Tuesday  \\\\\n",
       "\t EE197EDA4CF8CFE5 & electric\\_bike & 2021-09-22 07:14:42 & 2021-09-22 07:22:38 & NA & WL-008 & NA                      & NA    & 41.86712 & -87.64109 & ⋯ & -87.64000 & casual &  476 &  134.63987 & 07:14:42 & 2021-09-22 & 09 & 22 & 2021 & Wednesday\\\\\n",
       "\\end{tabular}\n"
      ],
      "text/markdown": [
       "\n",
       "A tibble: 3 × 21\n",
       "\n",
       "| ride_id &lt;chr&gt; | rideable_type &lt;chr&gt; | started_at &lt;dttm&gt; | ended_at &lt;dttm&gt; | start_station_name &lt;chr&gt; | start_station_id &lt;chr&gt; | end_station_name &lt;chr&gt; | end_station_id &lt;chr&gt; | start_lat &lt;dbl&gt; | start_lng &lt;dbl&gt; | ⋯ ⋯ | end_lng &lt;dbl&gt; | member_casual &lt;chr&gt; | ride_length &lt;int&gt; | ride_distance &lt;dbl&gt; | time &lt;chr&gt; | date &lt;date&gt; | month &lt;chr&gt; | day &lt;chr&gt; | year &lt;chr&gt; | day_of_week &lt;chr&gt; |\n",
       "|---|---|---|---|---|---|---|---|---|---|---|---|---|---|---|---|---|---|---|---|---|\n",
       "| 176105D1F8A1216B | electric_bike | 2021-07-18 03:44:22 | 2021-07-18 04:12:23 | NA | 13221  | NA                      | NA    | 41.90765 | -87.67255 | ⋯ | -87.74000 | casual | 1681 | 7510.64631 | 03:44:22 | 2021-07-18 | 07 | 18 | 2021 | Sunday    |\n",
       "| DE82A15026BA3056 | electric_bike | 2021-09-21 18:18:59 | 2021-09-21 18:21:48 | NA | 20215  | Hegewisch Metra Station | 20215 | 41.64850 | -87.54609 | ⋯ | -87.54625 | casual |  169 |   17.89034 | 18:18:59 | 2021-09-21 | 09 | 21 | 2021 | Tuesday   |\n",
       "| EE197EDA4CF8CFE5 | electric_bike | 2021-09-22 07:14:42 | 2021-09-22 07:22:38 | NA | WL-008 | NA                      | NA    | 41.86712 | -87.64109 | ⋯ | -87.64000 | casual |  476 |  134.63987 | 07:14:42 | 2021-09-22 | 09 | 22 | 2021 | Wednesday |\n",
       "\n"
      ],
      "text/plain": [
       "  ride_id          rideable_type started_at          ended_at           \n",
       "1 176105D1F8A1216B electric_bike 2021-07-18 03:44:22 2021-07-18 04:12:23\n",
       "2 DE82A15026BA3056 electric_bike 2021-09-21 18:18:59 2021-09-21 18:21:48\n",
       "3 EE197EDA4CF8CFE5 electric_bike 2021-09-22 07:14:42 2021-09-22 07:22:38\n",
       "  start_station_name start_station_id end_station_name        end_station_id\n",
       "1 NA                 13221            NA                      NA            \n",
       "2 NA                 20215            Hegewisch Metra Station 20215         \n",
       "3 NA                 WL-008           NA                      NA            \n",
       "  start_lat start_lng ⋯ end_lng   member_casual ride_length ride_distance\n",
       "1 41.90765  -87.67255 ⋯ -87.74000 casual        1681        7510.64631   \n",
       "2 41.64850  -87.54609 ⋯ -87.54625 casual         169          17.89034   \n",
       "3 41.86712  -87.64109 ⋯ -87.64000 casual         476         134.63987   \n",
       "  time     date       month day year day_of_week\n",
       "1 03:44:22 2021-07-18 07    18  2021 Sunday     \n",
       "2 18:18:59 2021-09-21 09    21  2021 Tuesday    \n",
       "3 07:14:42 2021-09-22 09    22  2021 Wednesday  "
      ]
     },
     "metadata": {},
     "output_type": "display_data"
    }
   ],
   "source": [
    "raw_data[is.na(raw_data$start_station_name) & !is.na(raw_data$start_station_id),] "
   ]
  },
  {
   "cell_type": "code",
   "execution_count": 77,
   "id": "48e4c2b9",
   "metadata": {},
   "outputs": [
    {
     "name": "stderr",
     "output_type": "stream",
     "text": [
      "Warning message in cbind(parts$left, ellip_h, parts$right, deparse.level = 0L):\n",
      "\"number of rows of result is not a multiple of vector length (arg 2)\"\n",
      "Warning message in cbind(parts$left, ellip_h, parts$right, deparse.level = 0L):\n",
      "\"number of rows of result is not a multiple of vector length (arg 2)\"\n",
      "Warning message in cbind(parts$left, ellip_h, parts$right, deparse.level = 0L):\n",
      "\"number of rows of result is not a multiple of vector length (arg 2)\"\n",
      "Warning message in cbind(parts$left, ellip_h, parts$right, deparse.level = 0L):\n",
      "\"number of rows of result is not a multiple of vector length (arg 2)\"\n"
     ]
    },
    {
     "data": {
      "text/html": [
       "<table class=\"dataframe\">\n",
       "<caption>A tibble: 0 × 21</caption>\n",
       "<thead>\n",
       "\t<tr><th scope=col>ride_id</th><th scope=col>rideable_type</th><th scope=col>started_at</th><th scope=col>ended_at</th><th scope=col>start_station_name</th><th scope=col>start_station_id</th><th scope=col>end_station_name</th><th scope=col>end_station_id</th><th scope=col>start_lat</th><th scope=col>start_lng</th><th scope=col>⋯</th><th scope=col>end_lng</th><th scope=col>member_casual</th><th scope=col>ride_length</th><th scope=col>ride_distance</th><th scope=col>time</th><th scope=col>date</th><th scope=col>month</th><th scope=col>day</th><th scope=col>year</th><th scope=col>day_of_week</th></tr>\n",
       "\t<tr><th scope=col>&lt;chr&gt;</th><th scope=col>&lt;chr&gt;</th><th scope=col>&lt;dttm&gt;</th><th scope=col>&lt;dttm&gt;</th><th scope=col>&lt;chr&gt;</th><th scope=col>&lt;chr&gt;</th><th scope=col>&lt;chr&gt;</th><th scope=col>&lt;chr&gt;</th><th scope=col>&lt;dbl&gt;</th><th scope=col>&lt;dbl&gt;</th><th scope=col>⋯</th><th scope=col>&lt;dbl&gt;</th><th scope=col>&lt;chr&gt;</th><th scope=col>&lt;int&gt;</th><th scope=col>&lt;dbl&gt;</th><th scope=col>&lt;chr&gt;</th><th scope=col>&lt;date&gt;</th><th scope=col>&lt;chr&gt;</th><th scope=col>&lt;chr&gt;</th><th scope=col>&lt;chr&gt;</th><th scope=col>&lt;chr&gt;</th></tr>\n",
       "</thead>\n",
       "<tbody>\n",
       "</tbody>\n",
       "</table>\n"
      ],
      "text/latex": [
       "A tibble: 0 × 21\n",
       "\\begin{tabular}{lllllllllllllllllllll}\n",
       " ride\\_id & rideable\\_type & started\\_at & ended\\_at & start\\_station\\_name & start\\_station\\_id & end\\_station\\_name & end\\_station\\_id & start\\_lat & start\\_lng & ⋯ & end\\_lng & member\\_casual & ride\\_length & ride\\_distance & time & date & month & day & year & day\\_of\\_week\\\\\n",
       " <chr> & <chr> & <dttm> & <dttm> & <chr> & <chr> & <chr> & <chr> & <dbl> & <dbl> & ⋯ & <dbl> & <chr> & <int> & <dbl> & <chr> & <date> & <chr> & <chr> & <chr> & <chr>\\\\\n",
       "\\hline\n",
       "\\end{tabular}\n"
      ],
      "text/markdown": [
       "\n",
       "A tibble: 0 × 21\n",
       "\n",
       "| ride_id &lt;chr&gt; | rideable_type &lt;chr&gt; | started_at &lt;dttm&gt; | ended_at &lt;dttm&gt; | start_station_name &lt;chr&gt; | start_station_id &lt;chr&gt; | end_station_name &lt;chr&gt; | end_station_id &lt;chr&gt; | start_lat &lt;dbl&gt; | start_lng &lt;dbl&gt; | ⋯ ⋯ | end_lng &lt;dbl&gt; | member_casual &lt;chr&gt; | ride_length &lt;int&gt; | ride_distance &lt;dbl&gt; | time &lt;chr&gt; | date &lt;date&gt; | month &lt;chr&gt; | day &lt;chr&gt; | year &lt;chr&gt; | day_of_week &lt;chr&gt; |\n",
       "|---|---|---|---|---|---|---|---|---|---|---|---|---|---|---|---|---|---|---|---|---|\n",
       "\n"
      ],
      "text/plain": [
       "     ride_id rideable_type started_at ended_at start_station_name\n",
       "     start_station_id end_station_name end_station_id start_lat start_lng ⋯\n",
       "     end_lng member_casual ride_length ride_distance time date month day year\n",
       "     day_of_week"
      ]
     },
     "metadata": {},
     "output_type": "display_data"
    }
   ],
   "source": [
    "raw_data[!is.na(raw_data$start_station_name) & is.na(raw_data$start_station_id),] "
   ]
  },
  {
   "cell_type": "code",
   "execution_count": 78,
   "id": "f5196749",
   "metadata": {},
   "outputs": [
    {
     "name": "stderr",
     "output_type": "stream",
     "text": [
      "Warning message in cbind(parts$left, ellip_h, parts$right, deparse.level = 0L):\n",
      "\"number of rows of result is not a multiple of vector length (arg 2)\"\n",
      "Warning message in cbind(parts$left, ellip_h, parts$right, deparse.level = 0L):\n",
      "\"number of rows of result is not a multiple of vector length (arg 2)\"\n",
      "Warning message in cbind(parts$left, ellip_h, parts$right, deparse.level = 0L):\n",
      "\"number of rows of result is not a multiple of vector length (arg 2)\"\n",
      "Warning message in cbind(parts$left, ellip_h, parts$right, deparse.level = 0L):\n",
      "\"number of rows of result is not a multiple of vector length (arg 2)\"\n"
     ]
    },
    {
     "data": {
      "text/html": [
       "<table class=\"dataframe\">\n",
       "<caption>A tibble: 0 × 21</caption>\n",
       "<thead>\n",
       "\t<tr><th scope=col>ride_id</th><th scope=col>rideable_type</th><th scope=col>started_at</th><th scope=col>ended_at</th><th scope=col>start_station_name</th><th scope=col>start_station_id</th><th scope=col>end_station_name</th><th scope=col>end_station_id</th><th scope=col>start_lat</th><th scope=col>start_lng</th><th scope=col>⋯</th><th scope=col>end_lng</th><th scope=col>member_casual</th><th scope=col>ride_length</th><th scope=col>ride_distance</th><th scope=col>time</th><th scope=col>date</th><th scope=col>month</th><th scope=col>day</th><th scope=col>year</th><th scope=col>day_of_week</th></tr>\n",
       "\t<tr><th scope=col>&lt;chr&gt;</th><th scope=col>&lt;chr&gt;</th><th scope=col>&lt;dttm&gt;</th><th scope=col>&lt;dttm&gt;</th><th scope=col>&lt;chr&gt;</th><th scope=col>&lt;chr&gt;</th><th scope=col>&lt;chr&gt;</th><th scope=col>&lt;chr&gt;</th><th scope=col>&lt;dbl&gt;</th><th scope=col>&lt;dbl&gt;</th><th scope=col>⋯</th><th scope=col>&lt;dbl&gt;</th><th scope=col>&lt;chr&gt;</th><th scope=col>&lt;int&gt;</th><th scope=col>&lt;dbl&gt;</th><th scope=col>&lt;chr&gt;</th><th scope=col>&lt;date&gt;</th><th scope=col>&lt;chr&gt;</th><th scope=col>&lt;chr&gt;</th><th scope=col>&lt;chr&gt;</th><th scope=col>&lt;chr&gt;</th></tr>\n",
       "</thead>\n",
       "<tbody>\n",
       "</tbody>\n",
       "</table>\n"
      ],
      "text/latex": [
       "A tibble: 0 × 21\n",
       "\\begin{tabular}{lllllllllllllllllllll}\n",
       " ride\\_id & rideable\\_type & started\\_at & ended\\_at & start\\_station\\_name & start\\_station\\_id & end\\_station\\_name & end\\_station\\_id & start\\_lat & start\\_lng & ⋯ & end\\_lng & member\\_casual & ride\\_length & ride\\_distance & time & date & month & day & year & day\\_of\\_week\\\\\n",
       " <chr> & <chr> & <dttm> & <dttm> & <chr> & <chr> & <chr> & <chr> & <dbl> & <dbl> & ⋯ & <dbl> & <chr> & <int> & <dbl> & <chr> & <date> & <chr> & <chr> & <chr> & <chr>\\\\\n",
       "\\hline\n",
       "\\end{tabular}\n"
      ],
      "text/markdown": [
       "\n",
       "A tibble: 0 × 21\n",
       "\n",
       "| ride_id &lt;chr&gt; | rideable_type &lt;chr&gt; | started_at &lt;dttm&gt; | ended_at &lt;dttm&gt; | start_station_name &lt;chr&gt; | start_station_id &lt;chr&gt; | end_station_name &lt;chr&gt; | end_station_id &lt;chr&gt; | start_lat &lt;dbl&gt; | start_lng &lt;dbl&gt; | ⋯ ⋯ | end_lng &lt;dbl&gt; | member_casual &lt;chr&gt; | ride_length &lt;int&gt; | ride_distance &lt;dbl&gt; | time &lt;chr&gt; | date &lt;date&gt; | month &lt;chr&gt; | day &lt;chr&gt; | year &lt;chr&gt; | day_of_week &lt;chr&gt; |\n",
       "|---|---|---|---|---|---|---|---|---|---|---|---|---|---|---|---|---|---|---|---|---|\n",
       "\n"
      ],
      "text/plain": [
       "     ride_id rideable_type started_at ended_at start_station_name\n",
       "     start_station_id end_station_name end_station_id start_lat start_lng ⋯\n",
       "     end_lng member_casual ride_length ride_distance time date month day year\n",
       "     day_of_week"
      ]
     },
     "metadata": {},
     "output_type": "display_data"
    }
   ],
   "source": [
    "raw_data[is.na(raw_data$end_station_name) & !is.na(raw_data$end_station_id),] "
   ]
  },
  {
   "cell_type": "code",
   "execution_count": 79,
   "id": "9f0e0c7f",
   "metadata": {},
   "outputs": [
    {
     "name": "stderr",
     "output_type": "stream",
     "text": [
      "Warning message in cbind(parts$left, ellip_h, parts$right, deparse.level = 0L):\n",
      "\"number of rows of result is not a multiple of vector length (arg 2)\"\n",
      "Warning message in cbind(parts$left, ellip_h, parts$right, deparse.level = 0L):\n",
      "\"number of rows of result is not a multiple of vector length (arg 2)\"\n",
      "Warning message in cbind(parts$left, ellip_h, parts$right, deparse.level = 0L):\n",
      "\"number of rows of result is not a multiple of vector length (arg 2)\"\n",
      "Warning message in cbind(parts$left, ellip_h, parts$right, deparse.level = 0L):\n",
      "\"number of rows of result is not a multiple of vector length (arg 2)\"\n"
     ]
    },
    {
     "data": {
      "text/html": [
       "<table class=\"dataframe\">\n",
       "<caption>A tibble: 0 × 21</caption>\n",
       "<thead>\n",
       "\t<tr><th scope=col>ride_id</th><th scope=col>rideable_type</th><th scope=col>started_at</th><th scope=col>ended_at</th><th scope=col>start_station_name</th><th scope=col>start_station_id</th><th scope=col>end_station_name</th><th scope=col>end_station_id</th><th scope=col>start_lat</th><th scope=col>start_lng</th><th scope=col>⋯</th><th scope=col>end_lng</th><th scope=col>member_casual</th><th scope=col>ride_length</th><th scope=col>ride_distance</th><th scope=col>time</th><th scope=col>date</th><th scope=col>month</th><th scope=col>day</th><th scope=col>year</th><th scope=col>day_of_week</th></tr>\n",
       "\t<tr><th scope=col>&lt;chr&gt;</th><th scope=col>&lt;chr&gt;</th><th scope=col>&lt;dttm&gt;</th><th scope=col>&lt;dttm&gt;</th><th scope=col>&lt;chr&gt;</th><th scope=col>&lt;chr&gt;</th><th scope=col>&lt;chr&gt;</th><th scope=col>&lt;chr&gt;</th><th scope=col>&lt;dbl&gt;</th><th scope=col>&lt;dbl&gt;</th><th scope=col>⋯</th><th scope=col>&lt;dbl&gt;</th><th scope=col>&lt;chr&gt;</th><th scope=col>&lt;int&gt;</th><th scope=col>&lt;dbl&gt;</th><th scope=col>&lt;chr&gt;</th><th scope=col>&lt;date&gt;</th><th scope=col>&lt;chr&gt;</th><th scope=col>&lt;chr&gt;</th><th scope=col>&lt;chr&gt;</th><th scope=col>&lt;chr&gt;</th></tr>\n",
       "</thead>\n",
       "<tbody>\n",
       "</tbody>\n",
       "</table>\n"
      ],
      "text/latex": [
       "A tibble: 0 × 21\n",
       "\\begin{tabular}{lllllllllllllllllllll}\n",
       " ride\\_id & rideable\\_type & started\\_at & ended\\_at & start\\_station\\_name & start\\_station\\_id & end\\_station\\_name & end\\_station\\_id & start\\_lat & start\\_lng & ⋯ & end\\_lng & member\\_casual & ride\\_length & ride\\_distance & time & date & month & day & year & day\\_of\\_week\\\\\n",
       " <chr> & <chr> & <dttm> & <dttm> & <chr> & <chr> & <chr> & <chr> & <dbl> & <dbl> & ⋯ & <dbl> & <chr> & <int> & <dbl> & <chr> & <date> & <chr> & <chr> & <chr> & <chr>\\\\\n",
       "\\hline\n",
       "\\end{tabular}\n"
      ],
      "text/markdown": [
       "\n",
       "A tibble: 0 × 21\n",
       "\n",
       "| ride_id &lt;chr&gt; | rideable_type &lt;chr&gt; | started_at &lt;dttm&gt; | ended_at &lt;dttm&gt; | start_station_name &lt;chr&gt; | start_station_id &lt;chr&gt; | end_station_name &lt;chr&gt; | end_station_id &lt;chr&gt; | start_lat &lt;dbl&gt; | start_lng &lt;dbl&gt; | ⋯ ⋯ | end_lng &lt;dbl&gt; | member_casual &lt;chr&gt; | ride_length &lt;int&gt; | ride_distance &lt;dbl&gt; | time &lt;chr&gt; | date &lt;date&gt; | month &lt;chr&gt; | day &lt;chr&gt; | year &lt;chr&gt; | day_of_week &lt;chr&gt; |\n",
       "|---|---|---|---|---|---|---|---|---|---|---|---|---|---|---|---|---|---|---|---|---|\n",
       "\n"
      ],
      "text/plain": [
       "     ride_id rideable_type started_at ended_at start_station_name\n",
       "     start_station_id end_station_name end_station_id start_lat start_lng ⋯\n",
       "     end_lng member_casual ride_length ride_distance time date month day year\n",
       "     day_of_week"
      ]
     },
     "metadata": {},
     "output_type": "display_data"
    }
   ],
   "source": [
    "raw_data[!is.na(raw_data$end_station_name) & is.na(raw_data$end_station_id),] "
   ]
  },
  {
   "cell_type": "markdown",
   "id": "50263fe8",
   "metadata": {},
   "source": [
    "we see three examples with a start station id, and no start station name,so lets just go ahead and remove them:"
   ]
  },
  {
   "cell_type": "code",
   "execution_count": 80,
   "id": "8a12edcc",
   "metadata": {},
   "outputs": [],
   "source": [
    "raw_data <- raw_data[!(is.na(raw_data$start_station_name) & !is.na(raw_data$start_station_id)),]"
   ]
  },
  {
   "cell_type": "code",
   "execution_count": 81,
   "id": "2ef7659a",
   "metadata": {},
   "outputs": [],
   "source": [
    "write.csv(raw_data,\"Divvy_Bike_Rides_2021_Cleaned.csv\")"
   ]
  }
 ],
 "metadata": {
  "kernelspec": {
   "display_name": "R",
   "language": "R",
   "name": "ir"
  },
  "language_info": {
   "codemirror_mode": "r",
   "file_extension": ".r",
   "mimetype": "text/x-r-source",
   "name": "R",
   "pygments_lexer": "r",
   "version": "4.2.0"
  }
 },
 "nbformat": 4,
 "nbformat_minor": 5
}
