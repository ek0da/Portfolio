{
 "cells": [
  {
   "cell_type": "markdown",
   "id": "bcb0328f-bb47-4f0c-8f4d-8312537683d6",
   "metadata": {},
   "source": [
    "The business task is to determine how casual riders and Divvy members use Divvy company bikes differently, in order to determine how to convert casual riders into members. In order to do this, we need to find out how casual riders use the bikes, and how members use the bikes. Key stakeholders include: \n",
    "\n",
    "Divvy: A bike-share program that features more than 5,800 bicycles and 600 docking stations. Note: Divvy was purchased by Lyft in 2019.\n",
    "\n",
    "Lily Moreno: The director of marketing and your manager. Moreno is responsible for the development of campaigns\n",
    "and initiatives to promote the bike-share program. These may include email, social media, and other channels.\n",
    "\n",
    "Divvy marketing analytics team: A team of data analysts who are responsible for collecting, analyzing, and\n",
    "reporting data that helps guide Divvy marketing strategy.\n",
    "\n",
    "Divvy executive team: The notoriously detail-oriented executive team will decide whether to approve the\n",
    "recommended marketing program \n"
   ]
  },
  {
   "cell_type": "markdown",
   "id": "ffef06f6-c257-4854-9242-0969d56ac8e5",
   "metadata": {},
   "source": [
    "The data is located here: https://divvy-tripdata.s3.amazonaws.com/index.html"
   ]
  },
  {
   "cell_type": "code",
   "execution_count": 2,
   "id": "affb526b",
   "metadata": {},
   "outputs": [
    {
     "name": "stderr",
     "output_type": "stream",
     "text": [
      "Installing package into 'C:/Users/dakot/AppData/Local/R/win-library/4.2'\n",
      "(as 'lib' is unspecified)\n",
      "\n"
     ]
    },
    {
     "name": "stdout",
     "output_type": "stream",
     "text": [
      "package 'readr' successfully unpacked and MD5 sums checked\n",
      "\n",
      "The downloaded binary packages are in\n",
      "\tC:\\Users\\dakot\\AppData\\Local\\Temp\\Rtmpk1whro\\downloaded_packages\n"
     ]
    }
   ],
   "source": [
    "install.packages('readr')\n",
    "install.packages(\"tidyverse\")\n",
    "install.packages(\"skimr\")\n",
    "install.packages(\"janitor\")\n",
    "install.packages('kimisc')\n",
    "install.packages('dplyr')\n",
    "install.packages('stringr')"
   ]
  },
  {
   "cell_type": "code",
   "execution_count": null,
   "id": "ff7e7b10-4676-401f-bb7f-1e42315d2d96",
   "metadata": {},
   "outputs": [],
   "source": [
    "#To import, we do the following:\n"
   ]
  },
  {
   "cell_type": "markdown",
   "id": "09bc8f8d-745e-470a-9637-677f645489ae",
   "metadata": {},
   "source": [
    "Looking at the data, the data is organized in various chunks of time, but there is a continuous stream of data from 2013 through the end of 2021. When looking at data and questioning it's quality, we use ROCCC: The data is reliable because it is first party data collected by the company requesting the analysis. It does not have selection bias, as our question is only looking at current customers, and the dataset includes only customers, and all customer trips during the selected period. The data we will choose is over the course of 2021, as that is a large enough data set post-pandemic. \n"
   ]
  },
  {
   "cell_type": "markdown",
   "id": "60bbcb16-eb3a-4c8a-b5de-4cad4e2171d1",
   "metadata": {},
   "source": [
    "First, let's import and take a look at the most recent data set, from dec 2021:"
   ]
  },
  {
   "cell_type": "code",
   "execution_count": 1,
   "id": "7d138b54-cf7d-479f-aa1d-214e1dccc629",
   "metadata": {},
   "outputs": [
    {
     "name": "stderr",
     "output_type": "stream",
     "text": [
      "\u001b[1mRows: \u001b[22m\u001b[34m96834\u001b[39m \u001b[1mColumns: \u001b[22m\u001b[34m13\u001b[39m\n",
      "\u001b[36m──\u001b[39m \u001b[1mColumn specification\u001b[22m \u001b[36m────────────────────────────────────────────────────────────────────────────────────────────────\u001b[39m\n",
      "\u001b[1mDelimiter:\u001b[22m \",\"\n",
      "\u001b[31mchr\u001b[39m  (7): ride_id, rideable_type, start_station_name, start_station_id, end_...\n",
      "\u001b[32mdbl\u001b[39m  (4): start_lat, start_lng, end_lat, end_lng\n",
      "\u001b[34mdttm\u001b[39m (2): started_at, ended_at\n",
      "\n",
      "\u001b[36mℹ\u001b[39m Use `spec()` to retrieve the full column specification for this data.\n",
      "\u001b[36mℹ\u001b[39m Specify the column types or set `show_col_types = FALSE` to quiet this message.\n"
     ]
    },
    {
     "data": {
      "text/html": [
       "<table class=\"dataframe\">\n",
       "<caption>A tibble: 6 × 13</caption>\n",
       "<thead>\n",
       "\t<tr><th scope=col>ride_id</th><th scope=col>rideable_type</th><th scope=col>started_at</th><th scope=col>ended_at</th><th scope=col>start_station_name</th><th scope=col>start_station_id</th><th scope=col>end_station_name</th><th scope=col>end_station_id</th><th scope=col>start_lat</th><th scope=col>start_lng</th><th scope=col>end_lat</th><th scope=col>end_lng</th><th scope=col>member_casual</th></tr>\n",
       "\t<tr><th scope=col>&lt;chr&gt;</th><th scope=col>&lt;chr&gt;</th><th scope=col>&lt;dttm&gt;</th><th scope=col>&lt;dttm&gt;</th><th scope=col>&lt;chr&gt;</th><th scope=col>&lt;chr&gt;</th><th scope=col>&lt;chr&gt;</th><th scope=col>&lt;chr&gt;</th><th scope=col>&lt;dbl&gt;</th><th scope=col>&lt;dbl&gt;</th><th scope=col>&lt;dbl&gt;</th><th scope=col>&lt;dbl&gt;</th><th scope=col>&lt;chr&gt;</th></tr>\n",
       "</thead>\n",
       "<tbody>\n",
       "\t<tr><td>E19E6F1B8D4C42ED</td><td>electric_bike</td><td>2021-01-23 16:14:19</td><td>2021-01-23 16:24:44</td><td>California Ave &amp; Cortez St</td><td>17660</td><td>NA</td><td>NA</td><td>41.90034</td><td>-87.69674</td><td>41.89</td><td>-87.72</td><td>member</td></tr>\n",
       "\t<tr><td>DC88F20C2C55F27F</td><td>electric_bike</td><td>2021-01-27 18:43:08</td><td>2021-01-27 18:47:12</td><td>California Ave &amp; Cortez St</td><td>17660</td><td>NA</td><td>NA</td><td>41.90033</td><td>-87.69671</td><td>41.90</td><td>-87.69</td><td>member</td></tr>\n",
       "\t<tr><td>EC45C94683FE3F27</td><td>electric_bike</td><td>2021-01-21 22:35:54</td><td>2021-01-21 22:37:14</td><td>California Ave &amp; Cortez St</td><td>17660</td><td>NA</td><td>NA</td><td>41.90031</td><td>-87.69664</td><td>41.90</td><td>-87.70</td><td>member</td></tr>\n",
       "\t<tr><td>4FA453A75AE377DB</td><td>electric_bike</td><td>2021-01-07 13:31:13</td><td>2021-01-07 13:42:55</td><td>California Ave &amp; Cortez St</td><td>17660</td><td>NA</td><td>NA</td><td>41.90040</td><td>-87.69666</td><td>41.92</td><td>-87.69</td><td>member</td></tr>\n",
       "\t<tr><td>BE5E8EB4E7263A0B</td><td>electric_bike</td><td>2021-01-23 02:24:02</td><td>2021-01-23 02:24:45</td><td>California Ave &amp; Cortez St</td><td>17660</td><td>NA</td><td>NA</td><td>41.90033</td><td>-87.69670</td><td>41.90</td><td>-87.70</td><td>casual</td></tr>\n",
       "\t<tr><td>5D8969F88C773979</td><td>electric_bike</td><td>2021-01-09 14:24:07</td><td>2021-01-09 15:17:54</td><td>California Ave &amp; Cortez St</td><td>17660</td><td>NA</td><td>NA</td><td>41.90041</td><td>-87.69676</td><td>41.94</td><td>-87.71</td><td>casual</td></tr>\n",
       "</tbody>\n",
       "</table>\n"
      ],
      "text/latex": [
       "A tibble: 6 × 13\n",
       "\\begin{tabular}{lllllllllllll}\n",
       " ride\\_id & rideable\\_type & started\\_at & ended\\_at & start\\_station\\_name & start\\_station\\_id & end\\_station\\_name & end\\_station\\_id & start\\_lat & start\\_lng & end\\_lat & end\\_lng & member\\_casual\\\\\n",
       " <chr> & <chr> & <dttm> & <dttm> & <chr> & <chr> & <chr> & <chr> & <dbl> & <dbl> & <dbl> & <dbl> & <chr>\\\\\n",
       "\\hline\n",
       "\t E19E6F1B8D4C42ED & electric\\_bike & 2021-01-23 16:14:19 & 2021-01-23 16:24:44 & California Ave \\& Cortez St & 17660 & NA & NA & 41.90034 & -87.69674 & 41.89 & -87.72 & member\\\\\n",
       "\t DC88F20C2C55F27F & electric\\_bike & 2021-01-27 18:43:08 & 2021-01-27 18:47:12 & California Ave \\& Cortez St & 17660 & NA & NA & 41.90033 & -87.69671 & 41.90 & -87.69 & member\\\\\n",
       "\t EC45C94683FE3F27 & electric\\_bike & 2021-01-21 22:35:54 & 2021-01-21 22:37:14 & California Ave \\& Cortez St & 17660 & NA & NA & 41.90031 & -87.69664 & 41.90 & -87.70 & member\\\\\n",
       "\t 4FA453A75AE377DB & electric\\_bike & 2021-01-07 13:31:13 & 2021-01-07 13:42:55 & California Ave \\& Cortez St & 17660 & NA & NA & 41.90040 & -87.69666 & 41.92 & -87.69 & member\\\\\n",
       "\t BE5E8EB4E7263A0B & electric\\_bike & 2021-01-23 02:24:02 & 2021-01-23 02:24:45 & California Ave \\& Cortez St & 17660 & NA & NA & 41.90033 & -87.69670 & 41.90 & -87.70 & casual\\\\\n",
       "\t 5D8969F88C773979 & electric\\_bike & 2021-01-09 14:24:07 & 2021-01-09 15:17:54 & California Ave \\& Cortez St & 17660 & NA & NA & 41.90041 & -87.69676 & 41.94 & -87.71 & casual\\\\\n",
       "\\end{tabular}\n"
      ],
      "text/markdown": [
       "\n",
       "A tibble: 6 × 13\n",
       "\n",
       "| ride_id &lt;chr&gt; | rideable_type &lt;chr&gt; | started_at &lt;dttm&gt; | ended_at &lt;dttm&gt; | start_station_name &lt;chr&gt; | start_station_id &lt;chr&gt; | end_station_name &lt;chr&gt; | end_station_id &lt;chr&gt; | start_lat &lt;dbl&gt; | start_lng &lt;dbl&gt; | end_lat &lt;dbl&gt; | end_lng &lt;dbl&gt; | member_casual &lt;chr&gt; |\n",
       "|---|---|---|---|---|---|---|---|---|---|---|---|---|\n",
       "| E19E6F1B8D4C42ED | electric_bike | 2021-01-23 16:14:19 | 2021-01-23 16:24:44 | California Ave &amp; Cortez St | 17660 | NA | NA | 41.90034 | -87.69674 | 41.89 | -87.72 | member |\n",
       "| DC88F20C2C55F27F | electric_bike | 2021-01-27 18:43:08 | 2021-01-27 18:47:12 | California Ave &amp; Cortez St | 17660 | NA | NA | 41.90033 | -87.69671 | 41.90 | -87.69 | member |\n",
       "| EC45C94683FE3F27 | electric_bike | 2021-01-21 22:35:54 | 2021-01-21 22:37:14 | California Ave &amp; Cortez St | 17660 | NA | NA | 41.90031 | -87.69664 | 41.90 | -87.70 | member |\n",
       "| 4FA453A75AE377DB | electric_bike | 2021-01-07 13:31:13 | 2021-01-07 13:42:55 | California Ave &amp; Cortez St | 17660 | NA | NA | 41.90040 | -87.69666 | 41.92 | -87.69 | member |\n",
       "| BE5E8EB4E7263A0B | electric_bike | 2021-01-23 02:24:02 | 2021-01-23 02:24:45 | California Ave &amp; Cortez St | 17660 | NA | NA | 41.90033 | -87.69670 | 41.90 | -87.70 | casual |\n",
       "| 5D8969F88C773979 | electric_bike | 2021-01-09 14:24:07 | 2021-01-09 15:17:54 | California Ave &amp; Cortez St | 17660 | NA | NA | 41.90041 | -87.69676 | 41.94 | -87.71 | casual |\n",
       "\n"
      ],
      "text/plain": [
       "  ride_id          rideable_type started_at          ended_at           \n",
       "1 E19E6F1B8D4C42ED electric_bike 2021-01-23 16:14:19 2021-01-23 16:24:44\n",
       "2 DC88F20C2C55F27F electric_bike 2021-01-27 18:43:08 2021-01-27 18:47:12\n",
       "3 EC45C94683FE3F27 electric_bike 2021-01-21 22:35:54 2021-01-21 22:37:14\n",
       "4 4FA453A75AE377DB electric_bike 2021-01-07 13:31:13 2021-01-07 13:42:55\n",
       "5 BE5E8EB4E7263A0B electric_bike 2021-01-23 02:24:02 2021-01-23 02:24:45\n",
       "6 5D8969F88C773979 electric_bike 2021-01-09 14:24:07 2021-01-09 15:17:54\n",
       "  start_station_name         start_station_id end_station_name end_station_id\n",
       "1 California Ave & Cortez St 17660            NA               NA            \n",
       "2 California Ave & Cortez St 17660            NA               NA            \n",
       "3 California Ave & Cortez St 17660            NA               NA            \n",
       "4 California Ave & Cortez St 17660            NA               NA            \n",
       "5 California Ave & Cortez St 17660            NA               NA            \n",
       "6 California Ave & Cortez St 17660            NA               NA            \n",
       "  start_lat start_lng end_lat end_lng member_casual\n",
       "1 41.90034  -87.69674 41.89   -87.72  member       \n",
       "2 41.90033  -87.69671 41.90   -87.69  member       \n",
       "3 41.90031  -87.69664 41.90   -87.70  member       \n",
       "4 41.90040  -87.69666 41.92   -87.69  member       \n",
       "5 41.90033  -87.69670 41.90   -87.70  casual       \n",
       "6 41.90041  -87.69676 41.94   -87.71  casual       "
      ]
     },
     "metadata": {},
     "output_type": "display_data"
    }
   ],
   "source": [
    "library(readr)\n",
    "\n",
    "data1 <- read_csv(\"Divvy Trip Data 2021/202101-divvy-tripdata.csv\")\n",
    "head(data1)"
   ]
  },
  {
   "cell_type": "markdown",
   "id": "6780b4b9-ee2a-4b84-86f3-b40a18a6ac9a",
   "metadata": {},
   "source": [
    "Looking at the data, we will definitly need to clean the data. The most common error in the data appears to be incomplete trip data, where the start or end station is missing. However, we are also given the start and stop latatude and longitude, and so it may be possible to figure out the start and end stations using the long and lat, depending on the accuracy of the lat and long. However, looking at divvy's website, we see that users can lock their bikes at bike racks that are not divvy stations, and this would make sense if a user decides to stop into a shop, or commutes to work, and parks their bike close to their place of employment. "
   ]
  },
  {
   "cell_type": "markdown",
   "id": "2265046e-c722-43ab-80d2-dcc8d775db90",
   "metadata": {},
   "source": [
    "Let's go ahead and import the rest of the data for our analysis: "
   ]
  },
  {
   "cell_type": "code",
   "execution_count": 2,
   "id": "f9ac1c56-31a6-4257-8220-a6750f21b955",
   "metadata": {
    "scrolled": true
   },
   "outputs": [
    {
     "ename": "ERROR",
     "evalue": "Error in read_csv(\"Divvy Trip Data 2021/202102-divvy-tripdata.csv\"): could not find function \"read_csv\"\n",
     "output_type": "error",
     "traceback": [
      "Error in read_csv(\"Divvy Trip Data 2021/202102-divvy-tripdata.csv\"): could not find function \"read_csv\"\nTraceback:\n"
     ]
    }
   ],
   "source": [
    "data2 <- read_csv(\"Divvy Trip Data 2021/202102-divvy-tripdata.csv\")\n",
    "data3 <- read_csv(\"Divvy Trip Data 2021/202103-divvy-tripdata.csv\")\n",
    "data4 <- read_csv(\"Divvy Trip Data 2021/202104-divvy-tripdata.csv\")\n",
    "data5 <- read_csv(\"Divvy Trip Data 2021/202105-divvy-tripdata.csv\")\n",
    "data6 <- read_csv(\"Divvy Trip Data 2021/202106-divvy-tripdata.csv\")\n",
    "data7 <- read_csv(\"Divvy Trip Data 2021/202107-divvy-tripdata.csv\")\n",
    "data8 <- read_csv(\"Divvy Trip Data 2021/202108-divvy-tripdata.csv\")\n",
    "data9 <- read_csv(\"Divvy Trip Data 2021/202109-divvy-tripdata.csv\")\n",
    "data10 <- read_csv(\"Divvy Trip Data 2021/202110-divvy-tripdata.csv\")\n",
    "data11 <- read_csv(\"Divvy Trip Data 2021/202111-divvy-tripdata.csv\")\n",
    "data12 <- read_csv(\"Divvy Trip Data 2021/202112-divvy-tripdata.csv\")"
   ]
  },
  {
   "cell_type": "code",
   "execution_count": 3,
   "id": "6be63cca",
   "metadata": {},
   "outputs": [
    {
     "ename": "ERROR",
     "evalue": "Error in hms(0, 0, 1234): could not find function \"hms\"\n",
     "output_type": "error",
     "traceback": [
      "Error in hms(0, 0, 1234): could not find function \"hms\"\nTraceback:\n"
     ]
    }
   ],
   "source": [
    "hms(0,0,1234)"
   ]
  },
  {
   "cell_type": "markdown",
   "id": "5bbc756a-36cf-4b2c-a0c5-f8385011e7f3",
   "metadata": {},
   "source": [
    "Looking at all 12 datasets, they have the exact same columns, so we can merge them into one dataset and begin cleaning:"
   ]
  },
  {
   "cell_type": "code",
   "execution_count": 3,
   "id": "4d53bd05-422f-489e-b94d-7f461efaa66a",
   "metadata": {},
   "outputs": [],
   "source": [
    "raw_data <- rbind(data1,data2,data3,data4,data5,data6,data7,data8,data9,data10,data11,data12)"
   ]
  },
  {
   "cell_type": "code",
   "execution_count": 33,
   "id": "e4ffa991",
   "metadata": {},
   "outputs": [
    {
     "name": "stdout",
     "output_type": "stream",
     "text": [
      "spec_tbl_df [729,595 × 13] (S3: spec_tbl_df/tbl_df/tbl/data.frame)\n",
      " $ ride_id           : chr [1:729595] \"99FEC93BA843FB20\" \"06048DCFC8520CAF\" \"9598066F68045DF2\" \"B03C0FE48C412214\" ...\n",
      " $ rideable_type     : chr [1:729595] \"electric_bike\" \"electric_bike\" \"electric_bike\" \"electric_bike\" ...\n",
      " $ started_at        : POSIXct[1:729595], format: \"2021-06-13 14:31:28\" \"2021-06-04 11:18:02\" ...\n",
      " $ ended_at          : POSIXct[1:729595], format: \"2021-06-13 14:34:11\" \"2021-06-04 11:24:19\" ...\n",
      " $ start_station_name: chr [1:729595] NA NA NA NA ...\n",
      " $ start_station_id  : chr [1:729595] NA NA NA NA ...\n",
      " $ end_station_name  : chr [1:729595] NA NA NA NA ...\n",
      " $ end_station_id    : chr [1:729595] NA NA NA NA ...\n",
      " $ start_lat         : num [1:729595] 41.8 41.8 41.8 41.8 41.8 ...\n",
      " $ start_lng         : num [1:729595] -87.6 -87.6 -87.6 -87.6 -87.6 ...\n",
      " $ end_lat           : num [1:729595] 41.8 41.8 41.8 41.8 41.8 ...\n",
      " $ end_lng           : num [1:729595] -87.6 -87.6 -87.6 -87.6 -87.6 ...\n",
      " $ member_casual     : chr [1:729595] \"member\" \"member\" \"member\" \"member\" ...\n",
      " - attr(*, \"spec\")=\n",
      "  .. cols(\n",
      "  ..   ride_id = \u001b[31mcol_character()\u001b[39m,\n",
      "  ..   rideable_type = \u001b[31mcol_character()\u001b[39m,\n",
      "  ..   started_at = \u001b[34mcol_datetime(format = \"\")\u001b[39m,\n",
      "  ..   ended_at = \u001b[34mcol_datetime(format = \"\")\u001b[39m,\n",
      "  ..   start_station_name = \u001b[31mcol_character()\u001b[39m,\n",
      "  ..   start_station_id = \u001b[31mcol_character()\u001b[39m,\n",
      "  ..   end_station_name = \u001b[31mcol_character()\u001b[39m,\n",
      "  ..   end_station_id = \u001b[31mcol_character()\u001b[39m,\n",
      "  ..   start_lat = \u001b[32mcol_double()\u001b[39m,\n",
      "  ..   start_lng = \u001b[32mcol_double()\u001b[39m,\n",
      "  ..   end_lat = \u001b[32mcol_double()\u001b[39m,\n",
      "  ..   end_lng = \u001b[32mcol_double()\u001b[39m,\n",
      "  ..   member_casual = \u001b[31mcol_character()\u001b[39m\n",
      "  .. )\n",
      " - attr(*, \"problems\")=<externalptr> \n"
     ]
    }
   ],
   "source": [
    "str(data6)"
   ]
  },
  {
   "cell_type": "code",
   "execution_count": 41,
   "id": "e54d4552",
   "metadata": {},
   "outputs": [
    {
     "data": {
      "text/html": [
       "729595"
      ],
      "text/latex": [
       "729595"
      ],
      "text/markdown": [
       "729595"
      ],
      "text/plain": [
       "[1] 729595"
      ]
     },
     "metadata": {},
     "output_type": "display_data"
    },
    {
     "data": {
      "text/html": [
       "729595"
      ],
      "text/latex": [
       "729595"
      ],
      "text/markdown": [
       "729595"
      ],
      "text/plain": [
       "[1] 729595"
      ]
     },
     "metadata": {},
     "output_type": "display_data"
    }
   ],
   "source": [
    "data6a <- data6[1:floor(nrow(data6)/2),]\n",
    "data6b <- data6[floor((nrow(data6)/2)+1):nrow(data6),]\n",
    "nrow(data6a)+nrow(data6b)\n",
    "nrow(data6)"
   ]
  },
  {
   "cell_type": "code",
   "execution_count": 42,
   "id": "6d00f54a",
   "metadata": {},
   "outputs": [],
   "source": [
    "write.csv(data6[1:floor(nrow(data6)/2),],\"202106A-divvy-tripdata.csv\", row.names = FALSE)\n",
    "write.csv(data6[floor((nrow(data6)/2)+1):nrow(data6),],\"202106B-divvy-tripdata.csv\", row.names = FALSE)\n",
    "\n",
    "write.csv(data7[1:floor(nrow(data7)/2),],\"202107A-divvy-tripdata.csv\", row.names = FALSE)\n",
    "write.csv(data7[floor((nrow(data7)/2)+1):nrow(data7),],\"202107B-divvy-tripdata.csv\", row.names = FALSE)\n",
    "\n",
    "write.csv(data8[1:floor(nrow(data8)/2),],\"202108A-divvy-tripdata.csv\", row.names = FALSE)\n",
    "write.csv(data8[floor((nrow(data8)/2)+1):nrow(data8),],\"202108B-divvy-tripdata.csv\", row.names = FALSE)\n",
    "\n",
    "write.csv(data9[1:floor(nrow(data9)/2),],\"202109A-divvy-tripdata.csv\", row.names = FALSE)\n",
    "write.csv(data9[floor((nrow(data9)/2)+1):nrow(data9),],\"202109B-divvy-tripdata.csv\", row.names = FALSE)\n",
    "\n",
    "write.csv(data10[1:floor(nrow(data10)/2),],\"202110A-divvy-tripdata.csv\", row.names = FALSE)\n",
    "write.csv(data10[floor((nrow(data10)/2)+1):nrow(data10),],\"202110B-divvy-tripdata.csv\", row.names = FALSE)"
   ]
  },
  {
   "cell_type": "code",
   "execution_count": 9,
   "id": "a67b7325",
   "metadata": {},
   "outputs": [
    {
     "name": "stderr",
     "output_type": "stream",
     "text": [
      "\n",
      "Attaching package: 'dplyr'\n",
      "\n",
      "\n",
      "The following objects are masked from 'package:stats':\n",
      "\n",
      "    filter, lag\n",
      "\n",
      "\n",
      "The following objects are masked from 'package:base':\n",
      "\n",
      "    intersect, setdiff, setequal, union\n",
      "\n",
      "\n"
     ]
    }
   ],
   "source": [
    "library(kimisc)\n",
    "library(dplyr)\n",
    "library(stringr)"
   ]
  },
  {
   "cell_type": "code",
   "execution_count": 4,
   "id": "0d4caf2e",
   "metadata": {},
   "outputs": [],
   "source": [
    "write.csv(raw_data,\"Divvy_raw_data_2021.csv\", row.names = FALSE)"
   ]
  },
  {
   "cell_type": "code",
   "execution_count": 25,
   "id": "cd5cadbb",
   "metadata": {},
   "outputs": [],
   "source": [
    "v = seconds.to.hms(123)"
   ]
  },
  {
   "cell_type": "code",
   "execution_count": 28,
   "id": "f474383e",
   "metadata": {},
   "outputs": [
    {
     "data": {
      "text/plain": [
       "[1] \"2022-06-16 00:02:03 CDT\""
      ]
     },
     "metadata": {},
     "output_type": "display_data"
    }
   ],
   "source": [
    "strptime(v, format = \"%H:%M:%S\")"
   ]
  },
  {
   "cell_type": "code",
   "execution_count": 5,
   "id": "3ba1aade",
   "metadata": {},
   "outputs": [
    {
     "name": "stderr",
     "output_type": "stream",
     "text": [
      "\u001b[1m\u001b[22mNew names:\n",
      "\u001b[36m•\u001b[39m `end_station_name` -> `end_station_name...9`\n",
      "\u001b[36m•\u001b[39m `end_station_name` -> `end_station_name...10`\n",
      "Warning message:\n",
      "\"One or more parsing issues, see `problems()` for details\"\n",
      "\u001b[1mRows: \u001b[22m\u001b[34m49622\u001b[39m \u001b[1mColumns: \u001b[22m\u001b[34m15\u001b[39m\n",
      "\u001b[36m──\u001b[39m \u001b[1mColumn specification\u001b[22m \u001b[36m────────────────────────────────────────────────────────────────────────────────────────────────\u001b[39m\n",
      "\u001b[1mDelimiter:\u001b[22m \",\"\n",
      "\u001b[31mchr\u001b[39m  (9): ride_id, rideable_type, started_at, ended_at, start_station_name, ...\n",
      "\u001b[32mdbl\u001b[39m  (5): day_of_week, start_lat, start_lng, end_lat, end_lng\n",
      "\u001b[34mtime\u001b[39m (1): ride_length\n",
      "\n",
      "\u001b[36mℹ\u001b[39m Use `spec()` to retrieve the full column specification for this data.\n",
      "\u001b[36mℹ\u001b[39m Specify the column types or set `show_col_types = FALSE` to quiet this message.\n"
     ]
    },
    {
     "data": {
      "text/html": [
       "<table class=\"dataframe\">\n",
       "<caption>A tibble: 6 × 15</caption>\n",
       "<thead>\n",
       "\t<tr><th scope=col>ride_id</th><th scope=col>rideable_type</th><th scope=col>started_at</th><th scope=col>ended_at</th><th scope=col>ride_length</th><th scope=col>day_of_week</th><th scope=col>start_station_name</th><th scope=col>start_station_id</th><th scope=col>end_station_name...9</th><th scope=col>end_station_name...10</th><th scope=col>start_lat</th><th scope=col>start_lng</th><th scope=col>end_lat</th><th scope=col>end_lng</th><th scope=col>member_casual</th></tr>\n",
       "\t<tr><th scope=col>&lt;chr&gt;</th><th scope=col>&lt;chr&gt;</th><th scope=col>&lt;chr&gt;</th><th scope=col>&lt;chr&gt;</th><th scope=col>&lt;time&gt;</th><th scope=col>&lt;dbl&gt;</th><th scope=col>&lt;chr&gt;</th><th scope=col>&lt;chr&gt;</th><th scope=col>&lt;chr&gt;</th><th scope=col>&lt;chr&gt;</th><th scope=col>&lt;dbl&gt;</th><th scope=col>&lt;dbl&gt;</th><th scope=col>&lt;dbl&gt;</th><th scope=col>&lt;dbl&gt;</th><th scope=col>&lt;chr&gt;</th></tr>\n",
       "</thead>\n",
       "<tbody>\n",
       "\t<tr><td>89E7AA6C29227EFF</td><td>classic_bike </td><td>2021-02-12 16:14:56</td><td>2021-02-12 16:21:43</td><td>00:06:47</td><td>6</td><td><span style=white-space:pre-wrap>Glenwood Ave &amp; Touhy Ave  </span></td><td><span style=white-space:pre-wrap>525         </span></td><td>Sheridan Rd &amp; Columbia Ave</td><td><span style=white-space:pre-wrap>660         </span></td><td>42.01270</td><td>-87.66606</td><td>42.00458</td><td>-87.66141</td><td>member</td></tr>\n",
       "\t<tr><td>0FEFDE2603568365</td><td>classic_bike </td><td>2021-02-14 17:52:38</td><td>2021-02-14 18:12:09</td><td>00:19:31</td><td>1</td><td><span style=white-space:pre-wrap>Glenwood Ave &amp; Touhy Ave  </span></td><td><span style=white-space:pre-wrap>525         </span></td><td><span style=white-space:pre-wrap>Bosworth Ave &amp; Howard St  </span></td><td><span style=white-space:pre-wrap>16806       </span></td><td>42.01270</td><td>-87.66606</td><td>42.01954</td><td>-87.66956</td><td>casual</td></tr>\n",
       "\t<tr><td>E6159D746B2DBB91</td><td>electric_bike</td><td>2021-02-09 19:10:18</td><td>2021-02-09 19:19:10</td><td>00:08:52</td><td>3</td><td><span style=white-space:pre-wrap>Clark St &amp; Lake St        </span></td><td>KA1503000012</td><td><span style=white-space:pre-wrap>State St &amp; Randolph St    </span></td><td>TA1305000029</td><td>41.88579</td><td>-87.63110</td><td>41.88487</td><td>-87.62750</td><td>member</td></tr>\n",
       "\t<tr><td>B32D3199F1C2E75B</td><td>classic_bike </td><td>2021-02-02 17:49:41</td><td>2021-02-02 17:54:06</td><td>00:04:25</td><td>3</td><td><span style=white-space:pre-wrap>Wood St &amp; Chicago Ave     </span></td><td><span style=white-space:pre-wrap>637         </span></td><td><span style=white-space:pre-wrap>Honore St &amp; Division St   </span></td><td>TA1305000034</td><td>41.89563</td><td>-87.67207</td><td>41.90312</td><td>-87.67394</td><td>member</td></tr>\n",
       "\t<tr><td>83E463F23575F4BF</td><td>electric_bike</td><td>2021-02-23 15:07:23</td><td>2021-02-23 15:22:37</td><td>00:15:14</td><td>3</td><td><span style=white-space:pre-wrap>State St &amp; 33rd St        </span></td><td><span style=white-space:pre-wrap>13216       </span></td><td><span style=white-space:pre-wrap>Emerald Ave &amp; 31st St     </span></td><td>TA1309000055</td><td>41.83473</td><td>-87.62583</td><td>41.83816</td><td>-87.64512</td><td>member</td></tr>\n",
       "\t<tr><td>BDAA7E3494E8D545</td><td>electric_bike</td><td>2021-02-24 15:43:33</td><td>2021-02-24 15:49:05</td><td>00:05:32</td><td>4</td><td>Fairbanks St &amp; Superior St</td><td><span style=white-space:pre-wrap>18003       </span></td><td><span style=white-space:pre-wrap>LaSalle Dr &amp; Huron St     </span></td><td>KP1705001026</td><td>41.89581</td><td>-87.62025</td><td>41.89489</td><td>-87.63198</td><td>casual</td></tr>\n",
       "</tbody>\n",
       "</table>\n"
      ],
      "text/latex": [
       "A tibble: 6 × 15\n",
       "\\begin{tabular}{lllllllllllllll}\n",
       " ride\\_id & rideable\\_type & started\\_at & ended\\_at & ride\\_length & day\\_of\\_week & start\\_station\\_name & start\\_station\\_id & end\\_station\\_name...9 & end\\_station\\_name...10 & start\\_lat & start\\_lng & end\\_lat & end\\_lng & member\\_casual\\\\\n",
       " <chr> & <chr> & <chr> & <chr> & <time> & <dbl> & <chr> & <chr> & <chr> & <chr> & <dbl> & <dbl> & <dbl> & <dbl> & <chr>\\\\\n",
       "\\hline\n",
       "\t 89E7AA6C29227EFF & classic\\_bike  & 2021-02-12 16:14:56 & 2021-02-12 16:21:43 & 00:06:47 & 6 & Glenwood Ave \\& Touhy Ave   & 525          & Sheridan Rd \\& Columbia Ave & 660          & 42.01270 & -87.66606 & 42.00458 & -87.66141 & member\\\\\n",
       "\t 0FEFDE2603568365 & classic\\_bike  & 2021-02-14 17:52:38 & 2021-02-14 18:12:09 & 00:19:31 & 1 & Glenwood Ave \\& Touhy Ave   & 525          & Bosworth Ave \\& Howard St   & 16806        & 42.01270 & -87.66606 & 42.01954 & -87.66956 & casual\\\\\n",
       "\t E6159D746B2DBB91 & electric\\_bike & 2021-02-09 19:10:18 & 2021-02-09 19:19:10 & 00:08:52 & 3 & Clark St \\& Lake St         & KA1503000012 & State St \\& Randolph St     & TA1305000029 & 41.88579 & -87.63110 & 41.88487 & -87.62750 & member\\\\\n",
       "\t B32D3199F1C2E75B & classic\\_bike  & 2021-02-02 17:49:41 & 2021-02-02 17:54:06 & 00:04:25 & 3 & Wood St \\& Chicago Ave      & 637          & Honore St \\& Division St    & TA1305000034 & 41.89563 & -87.67207 & 41.90312 & -87.67394 & member\\\\\n",
       "\t 83E463F23575F4BF & electric\\_bike & 2021-02-23 15:07:23 & 2021-02-23 15:22:37 & 00:15:14 & 3 & State St \\& 33rd St         & 13216        & Emerald Ave \\& 31st St      & TA1309000055 & 41.83473 & -87.62583 & 41.83816 & -87.64512 & member\\\\\n",
       "\t BDAA7E3494E8D545 & electric\\_bike & 2021-02-24 15:43:33 & 2021-02-24 15:49:05 & 00:05:32 & 4 & Fairbanks St \\& Superior St & 18003        & LaSalle Dr \\& Huron St      & KP1705001026 & 41.89581 & -87.62025 & 41.89489 & -87.63198 & casual\\\\\n",
       "\\end{tabular}\n"
      ],
      "text/markdown": [
       "\n",
       "A tibble: 6 × 15\n",
       "\n",
       "| ride_id &lt;chr&gt; | rideable_type &lt;chr&gt; | started_at &lt;chr&gt; | ended_at &lt;chr&gt; | ride_length &lt;time&gt; | day_of_week &lt;dbl&gt; | start_station_name &lt;chr&gt; | start_station_id &lt;chr&gt; | end_station_name...9 &lt;chr&gt; | end_station_name...10 &lt;chr&gt; | start_lat &lt;dbl&gt; | start_lng &lt;dbl&gt; | end_lat &lt;dbl&gt; | end_lng &lt;dbl&gt; | member_casual &lt;chr&gt; |\n",
       "|---|---|---|---|---|---|---|---|---|---|---|---|---|---|---|\n",
       "| 89E7AA6C29227EFF | classic_bike  | 2021-02-12 16:14:56 | 2021-02-12 16:21:43 | 00:06:47 | 6 | Glenwood Ave &amp; Touhy Ave   | 525          | Sheridan Rd &amp; Columbia Ave | 660          | 42.01270 | -87.66606 | 42.00458 | -87.66141 | member |\n",
       "| 0FEFDE2603568365 | classic_bike  | 2021-02-14 17:52:38 | 2021-02-14 18:12:09 | 00:19:31 | 1 | Glenwood Ave &amp; Touhy Ave   | 525          | Bosworth Ave &amp; Howard St   | 16806        | 42.01270 | -87.66606 | 42.01954 | -87.66956 | casual |\n",
       "| E6159D746B2DBB91 | electric_bike | 2021-02-09 19:10:18 | 2021-02-09 19:19:10 | 00:08:52 | 3 | Clark St &amp; Lake St         | KA1503000012 | State St &amp; Randolph St     | TA1305000029 | 41.88579 | -87.63110 | 41.88487 | -87.62750 | member |\n",
       "| B32D3199F1C2E75B | classic_bike  | 2021-02-02 17:49:41 | 2021-02-02 17:54:06 | 00:04:25 | 3 | Wood St &amp; Chicago Ave      | 637          | Honore St &amp; Division St    | TA1305000034 | 41.89563 | -87.67207 | 41.90312 | -87.67394 | member |\n",
       "| 83E463F23575F4BF | electric_bike | 2021-02-23 15:07:23 | 2021-02-23 15:22:37 | 00:15:14 | 3 | State St &amp; 33rd St         | 13216        | Emerald Ave &amp; 31st St      | TA1309000055 | 41.83473 | -87.62583 | 41.83816 | -87.64512 | member |\n",
       "| BDAA7E3494E8D545 | electric_bike | 2021-02-24 15:43:33 | 2021-02-24 15:49:05 | 00:05:32 | 4 | Fairbanks St &amp; Superior St | 18003        | LaSalle Dr &amp; Huron St      | KP1705001026 | 41.89581 | -87.62025 | 41.89489 | -87.63198 | casual |\n",
       "\n"
      ],
      "text/plain": [
       "  ride_id          rideable_type started_at          ended_at           \n",
       "1 89E7AA6C29227EFF classic_bike  2021-02-12 16:14:56 2021-02-12 16:21:43\n",
       "2 0FEFDE2603568365 classic_bike  2021-02-14 17:52:38 2021-02-14 18:12:09\n",
       "3 E6159D746B2DBB91 electric_bike 2021-02-09 19:10:18 2021-02-09 19:19:10\n",
       "4 B32D3199F1C2E75B classic_bike  2021-02-02 17:49:41 2021-02-02 17:54:06\n",
       "5 83E463F23575F4BF electric_bike 2021-02-23 15:07:23 2021-02-23 15:22:37\n",
       "6 BDAA7E3494E8D545 electric_bike 2021-02-24 15:43:33 2021-02-24 15:49:05\n",
       "  ride_length day_of_week start_station_name         start_station_id\n",
       "1 00:06:47    6           Glenwood Ave & Touhy Ave   525             \n",
       "2 00:19:31    1           Glenwood Ave & Touhy Ave   525             \n",
       "3 00:08:52    3           Clark St & Lake St         KA1503000012    \n",
       "4 00:04:25    3           Wood St & Chicago Ave      637             \n",
       "5 00:15:14    3           State St & 33rd St         13216           \n",
       "6 00:05:32    4           Fairbanks St & Superior St 18003           \n",
       "  end_station_name...9       end_station_name...10 start_lat start_lng end_lat \n",
       "1 Sheridan Rd & Columbia Ave 660                   42.01270  -87.66606 42.00458\n",
       "2 Bosworth Ave & Howard St   16806                 42.01270  -87.66606 42.01954\n",
       "3 State St & Randolph St     TA1305000029          41.88579  -87.63110 41.88487\n",
       "4 Honore St & Division St    TA1305000034          41.89563  -87.67207 41.90312\n",
       "5 Emerald Ave & 31st St      TA1309000055          41.83473  -87.62583 41.83816\n",
       "6 LaSalle Dr & Huron St      KP1705001026          41.89581  -87.62025 41.89489\n",
       "  end_lng   member_casual\n",
       "1 -87.66141 member       \n",
       "2 -87.66956 casual       \n",
       "3 -87.62750 member       \n",
       "4 -87.67394 member       \n",
       "5 -87.64512 member       \n",
       "6 -87.63198 casual       "
      ]
     },
     "metadata": {},
     "output_type": "display_data"
    }
   ],
   "source": [
    "test_data <- read_csv(\"test_data.csv\")\n",
    "head(test_data)"
   ]
  },
  {
   "cell_type": "code",
   "execution_count": null,
   "id": "b0f84a2b",
   "metadata": {},
   "outputs": [],
   "source": [
    "raw_data$ride_length <- "
   ]
  },
  {
   "cell_type": "code",
   "execution_count": 5,
   "id": "3fe5dfcc-8ed9-4558-832c-a01f3ab1521d",
   "metadata": {},
   "outputs": [
    {
     "data": {
      "text/html": [
       "<table class=\"dataframe\">\n",
       "<caption>A tibble: 6 × 13</caption>\n",
       "<thead>\n",
       "\t<tr><th scope=col>ride_id</th><th scope=col>rideable_type</th><th scope=col>started_at</th><th scope=col>ended_at</th><th scope=col>start_station_name</th><th scope=col>start_station_id</th><th scope=col>end_station_name</th><th scope=col>end_station_id</th><th scope=col>start_lat</th><th scope=col>start_lng</th><th scope=col>end_lat</th><th scope=col>end_lng</th><th scope=col>member_casual</th></tr>\n",
       "\t<tr><th scope=col>&lt;chr&gt;</th><th scope=col>&lt;chr&gt;</th><th scope=col>&lt;dttm&gt;</th><th scope=col>&lt;dttm&gt;</th><th scope=col>&lt;chr&gt;</th><th scope=col>&lt;chr&gt;</th><th scope=col>&lt;chr&gt;</th><th scope=col>&lt;chr&gt;</th><th scope=col>&lt;dbl&gt;</th><th scope=col>&lt;dbl&gt;</th><th scope=col>&lt;dbl&gt;</th><th scope=col>&lt;dbl&gt;</th><th scope=col>&lt;chr&gt;</th></tr>\n",
       "</thead>\n",
       "<tbody>\n",
       "\t<tr><td>E19E6F1B8D4C42ED</td><td>electric_bike</td><td>2021-01-23 16:14:19</td><td>2021-01-23 16:24:44</td><td>California Ave &amp; Cortez St</td><td>17660</td><td>NA</td><td>NA</td><td>41.90034</td><td>-87.69674</td><td>41.89</td><td>-87.72</td><td>member</td></tr>\n",
       "\t<tr><td>DC88F20C2C55F27F</td><td>electric_bike</td><td>2021-01-27 18:43:08</td><td>2021-01-27 18:47:12</td><td>California Ave &amp; Cortez St</td><td>17660</td><td>NA</td><td>NA</td><td>41.90033</td><td>-87.69671</td><td>41.90</td><td>-87.69</td><td>member</td></tr>\n",
       "\t<tr><td>EC45C94683FE3F27</td><td>electric_bike</td><td>2021-01-21 22:35:54</td><td>2021-01-21 22:37:14</td><td>California Ave &amp; Cortez St</td><td>17660</td><td>NA</td><td>NA</td><td>41.90031</td><td>-87.69664</td><td>41.90</td><td>-87.70</td><td>member</td></tr>\n",
       "\t<tr><td>4FA453A75AE377DB</td><td>electric_bike</td><td>2021-01-07 13:31:13</td><td>2021-01-07 13:42:55</td><td>California Ave &amp; Cortez St</td><td>17660</td><td>NA</td><td>NA</td><td>41.90040</td><td>-87.69666</td><td>41.92</td><td>-87.69</td><td>member</td></tr>\n",
       "\t<tr><td>BE5E8EB4E7263A0B</td><td>electric_bike</td><td>2021-01-23 02:24:02</td><td>2021-01-23 02:24:45</td><td>California Ave &amp; Cortez St</td><td>17660</td><td>NA</td><td>NA</td><td>41.90033</td><td>-87.69670</td><td>41.90</td><td>-87.70</td><td>casual</td></tr>\n",
       "\t<tr><td>5D8969F88C773979</td><td>electric_bike</td><td>2021-01-09 14:24:07</td><td>2021-01-09 15:17:54</td><td>California Ave &amp; Cortez St</td><td>17660</td><td>NA</td><td>NA</td><td>41.90041</td><td>-87.69676</td><td>41.94</td><td>-87.71</td><td>casual</td></tr>\n",
       "</tbody>\n",
       "</table>\n"
      ],
      "text/latex": [
       "A tibble: 6 × 13\n",
       "\\begin{tabular}{lllllllllllll}\n",
       " ride\\_id & rideable\\_type & started\\_at & ended\\_at & start\\_station\\_name & start\\_station\\_id & end\\_station\\_name & end\\_station\\_id & start\\_lat & start\\_lng & end\\_lat & end\\_lng & member\\_casual\\\\\n",
       " <chr> & <chr> & <dttm> & <dttm> & <chr> & <chr> & <chr> & <chr> & <dbl> & <dbl> & <dbl> & <dbl> & <chr>\\\\\n",
       "\\hline\n",
       "\t E19E6F1B8D4C42ED & electric\\_bike & 2021-01-23 16:14:19 & 2021-01-23 16:24:44 & California Ave \\& Cortez St & 17660 & NA & NA & 41.90034 & -87.69674 & 41.89 & -87.72 & member\\\\\n",
       "\t DC88F20C2C55F27F & electric\\_bike & 2021-01-27 18:43:08 & 2021-01-27 18:47:12 & California Ave \\& Cortez St & 17660 & NA & NA & 41.90033 & -87.69671 & 41.90 & -87.69 & member\\\\\n",
       "\t EC45C94683FE3F27 & electric\\_bike & 2021-01-21 22:35:54 & 2021-01-21 22:37:14 & California Ave \\& Cortez St & 17660 & NA & NA & 41.90031 & -87.69664 & 41.90 & -87.70 & member\\\\\n",
       "\t 4FA453A75AE377DB & electric\\_bike & 2021-01-07 13:31:13 & 2021-01-07 13:42:55 & California Ave \\& Cortez St & 17660 & NA & NA & 41.90040 & -87.69666 & 41.92 & -87.69 & member\\\\\n",
       "\t BE5E8EB4E7263A0B & electric\\_bike & 2021-01-23 02:24:02 & 2021-01-23 02:24:45 & California Ave \\& Cortez St & 17660 & NA & NA & 41.90033 & -87.69670 & 41.90 & -87.70 & casual\\\\\n",
       "\t 5D8969F88C773979 & electric\\_bike & 2021-01-09 14:24:07 & 2021-01-09 15:17:54 & California Ave \\& Cortez St & 17660 & NA & NA & 41.90041 & -87.69676 & 41.94 & -87.71 & casual\\\\\n",
       "\\end{tabular}\n"
      ],
      "text/markdown": [
       "\n",
       "A tibble: 6 × 13\n",
       "\n",
       "| ride_id &lt;chr&gt; | rideable_type &lt;chr&gt; | started_at &lt;dttm&gt; | ended_at &lt;dttm&gt; | start_station_name &lt;chr&gt; | start_station_id &lt;chr&gt; | end_station_name &lt;chr&gt; | end_station_id &lt;chr&gt; | start_lat &lt;dbl&gt; | start_lng &lt;dbl&gt; | end_lat &lt;dbl&gt; | end_lng &lt;dbl&gt; | member_casual &lt;chr&gt; |\n",
       "|---|---|---|---|---|---|---|---|---|---|---|---|---|\n",
       "| E19E6F1B8D4C42ED | electric_bike | 2021-01-23 16:14:19 | 2021-01-23 16:24:44 | California Ave &amp; Cortez St | 17660 | NA | NA | 41.90034 | -87.69674 | 41.89 | -87.72 | member |\n",
       "| DC88F20C2C55F27F | electric_bike | 2021-01-27 18:43:08 | 2021-01-27 18:47:12 | California Ave &amp; Cortez St | 17660 | NA | NA | 41.90033 | -87.69671 | 41.90 | -87.69 | member |\n",
       "| EC45C94683FE3F27 | electric_bike | 2021-01-21 22:35:54 | 2021-01-21 22:37:14 | California Ave &amp; Cortez St | 17660 | NA | NA | 41.90031 | -87.69664 | 41.90 | -87.70 | member |\n",
       "| 4FA453A75AE377DB | electric_bike | 2021-01-07 13:31:13 | 2021-01-07 13:42:55 | California Ave &amp; Cortez St | 17660 | NA | NA | 41.90040 | -87.69666 | 41.92 | -87.69 | member |\n",
       "| BE5E8EB4E7263A0B | electric_bike | 2021-01-23 02:24:02 | 2021-01-23 02:24:45 | California Ave &amp; Cortez St | 17660 | NA | NA | 41.90033 | -87.69670 | 41.90 | -87.70 | casual |\n",
       "| 5D8969F88C773979 | electric_bike | 2021-01-09 14:24:07 | 2021-01-09 15:17:54 | California Ave &amp; Cortez St | 17660 | NA | NA | 41.90041 | -87.69676 | 41.94 | -87.71 | casual |\n",
       "\n"
      ],
      "text/plain": [
       "  ride_id          rideable_type started_at          ended_at           \n",
       "1 E19E6F1B8D4C42ED electric_bike 2021-01-23 16:14:19 2021-01-23 16:24:44\n",
       "2 DC88F20C2C55F27F electric_bike 2021-01-27 18:43:08 2021-01-27 18:47:12\n",
       "3 EC45C94683FE3F27 electric_bike 2021-01-21 22:35:54 2021-01-21 22:37:14\n",
       "4 4FA453A75AE377DB electric_bike 2021-01-07 13:31:13 2021-01-07 13:42:55\n",
       "5 BE5E8EB4E7263A0B electric_bike 2021-01-23 02:24:02 2021-01-23 02:24:45\n",
       "6 5D8969F88C773979 electric_bike 2021-01-09 14:24:07 2021-01-09 15:17:54\n",
       "  start_station_name         start_station_id end_station_name end_station_id\n",
       "1 California Ave & Cortez St 17660            NA               NA            \n",
       "2 California Ave & Cortez St 17660            NA               NA            \n",
       "3 California Ave & Cortez St 17660            NA               NA            \n",
       "4 California Ave & Cortez St 17660            NA               NA            \n",
       "5 California Ave & Cortez St 17660            NA               NA            \n",
       "6 California Ave & Cortez St 17660            NA               NA            \n",
       "  start_lat start_lng end_lat end_lng member_casual\n",
       "1 41.90034  -87.69674 41.89   -87.72  member       \n",
       "2 41.90033  -87.69671 41.90   -87.69  member       \n",
       "3 41.90031  -87.69664 41.90   -87.70  member       \n",
       "4 41.90040  -87.69666 41.92   -87.69  member       \n",
       "5 41.90033  -87.69670 41.90   -87.70  casual       \n",
       "6 41.90041  -87.69676 41.94   -87.71  casual       "
      ]
     },
     "metadata": {},
     "output_type": "display_data"
    }
   ],
   "source": [
    "head(raw_"
   ]
  },
  {
   "cell_type": "code",
   "execution_count": 6,
   "id": "ee9109e4-fa95-41c9-b75c-6355d48fbbd5",
   "metadata": {},
   "outputs": [
    {
     "name": "stdout",
     "output_type": "stream",
     "text": [
      "spec_tbl_df [5,595,063 × 13] (S3: spec_tbl_df/tbl_df/tbl/data.frame)\n",
      " $ ride_id           : chr [1:5595063] \"E19E6F1B8D4C42ED\" \"DC88F20C2C55F27F\" \"EC45C94683FE3F27\" \"4FA453A75AE377DB\" ...\n",
      " $ rideable_type     : chr [1:5595063] \"electric_bike\" \"electric_bike\" \"electric_bike\" \"electric_bike\" ...\n",
      " $ started_at        : POSIXct[1:5595063], format: \"2021-01-23 16:14:19\" \"2021-01-27 18:43:08\" ...\n",
      " $ ended_at          : POSIXct[1:5595063], format: \"2021-01-23 16:24:44\" \"2021-01-27 18:47:12\" ...\n",
      " $ start_station_name: chr [1:5595063] \"California Ave & Cortez St\" \"California Ave & Cortez St\" \"California Ave & Cortez St\" \"California Ave & Cortez St\" ...\n",
      " $ start_station_id  : chr [1:5595063] \"17660\" \"17660\" \"17660\" \"17660\" ...\n",
      " $ end_station_name  : chr [1:5595063] NA NA NA NA ...\n",
      " $ end_station_id    : chr [1:5595063] NA NA NA NA ...\n",
      " $ start_lat         : num [1:5595063] 41.9 41.9 41.9 41.9 41.9 ...\n",
      " $ start_lng         : num [1:5595063] -87.7 -87.7 -87.7 -87.7 -87.7 ...\n",
      " $ end_lat           : num [1:5595063] 41.9 41.9 41.9 41.9 41.9 ...\n",
      " $ end_lng           : num [1:5595063] -87.7 -87.7 -87.7 -87.7 -87.7 ...\n",
      " $ member_casual     : chr [1:5595063] \"member\" \"member\" \"member\" \"member\" ...\n",
      " - attr(*, \"spec\")=\n",
      "  .. cols(\n",
      "  ..   ride_id = \u001b[31mcol_character()\u001b[39m,\n",
      "  ..   rideable_type = \u001b[31mcol_character()\u001b[39m,\n",
      "  ..   started_at = \u001b[34mcol_datetime(format = \"\")\u001b[39m,\n",
      "  ..   ended_at = \u001b[34mcol_datetime(format = \"\")\u001b[39m,\n",
      "  ..   start_station_name = \u001b[31mcol_character()\u001b[39m,\n",
      "  ..   start_station_id = \u001b[31mcol_character()\u001b[39m,\n",
      "  ..   end_station_name = \u001b[31mcol_character()\u001b[39m,\n",
      "  ..   end_station_id = \u001b[31mcol_character()\u001b[39m,\n",
      "  ..   start_lat = \u001b[32mcol_double()\u001b[39m,\n",
      "  ..   start_lng = \u001b[32mcol_double()\u001b[39m,\n",
      "  ..   end_lat = \u001b[32mcol_double()\u001b[39m,\n",
      "  ..   end_lng = \u001b[32mcol_double()\u001b[39m,\n",
      "  ..   member_casual = \u001b[31mcol_character()\u001b[39m\n",
      "  .. )\n",
      " - attr(*, \"problems\")=<externalptr> \n"
     ]
    }
   ],
   "source": [
    "str(raw_data)"
   ]
  },
  {
   "cell_type": "code",
   "execution_count": 31,
   "id": "f02522b7-3e8f-4732-9a56-98065323b44d",
   "metadata": {},
   "outputs": [
    {
     "name": "stderr",
     "output_type": "stream",
     "text": [
      "── \u001b[1mAttaching packages\u001b[22m ─────────────────────────────────────────────────────────────────────────────── tidyverse 1.3.1 ──\n",
      "\n",
      "\u001b[32m✔\u001b[39m \u001b[34mggplot2\u001b[39m 3.3.6     \u001b[32m✔\u001b[39m \u001b[34mpurrr  \u001b[39m 0.3.4\n",
      "\u001b[32m✔\u001b[39m \u001b[34mtibble \u001b[39m 3.1.7     \u001b[32m✔\u001b[39m \u001b[34mforcats\u001b[39m 0.5.1\n",
      "\u001b[32m✔\u001b[39m \u001b[34mtidyr  \u001b[39m 1.2.0     \n",
      "\n",
      "── \u001b[1mConflicts\u001b[22m ────────────────────────────────────────────────────────────────────────────────── tidyverse_conflicts() ──\n",
      "\u001b[31m✖\u001b[39m \u001b[34mdplyr\u001b[39m::\u001b[32mfilter()\u001b[39m masks \u001b[34mstats\u001b[39m::filter()\n",
      "\u001b[31m✖\u001b[39m \u001b[34mdplyr\u001b[39m::\u001b[32mlag()\u001b[39m    masks \u001b[34mstats\u001b[39m::lag()\n",
      "\n",
      "\n",
      "Attaching package: 'janitor'\n",
      "\n",
      "\n",
      "The following objects are masked from 'package:stats':\n",
      "\n",
      "    chisq.test, fisher.test\n",
      "\n",
      "\n"
     ]
    }
   ],
   "source": [
    "library(tidyverse)\n",
    "library(skimr)\n",
    "library(janitor)"
   ]
  },
  {
   "cell_type": "code",
   "execution_count": 8,
   "id": "f7fb334a-aaeb-4889-b98b-e9c3e7cea193",
   "metadata": {},
   "outputs": [
    {
     "name": "stdout",
     "output_type": "stream",
     "text": [
      "Rows: 5,595,063\n",
      "Columns: 13\n",
      "$ ride_id            \u001b[3m\u001b[90m<chr>\u001b[39m\u001b[23m \"E19E6F1B8D4C42ED\", \"DC88F20C2C55F27F\", \"EC45C94683…\n",
      "$ rideable_type      \u001b[3m\u001b[90m<chr>\u001b[39m\u001b[23m \"electric_bike\", \"electric_bike\", \"electric_bike\", …\n",
      "$ started_at         \u001b[3m\u001b[90m<dttm>\u001b[39m\u001b[23m 2021-01-23 16:14:19, 2021-01-27 18:43:08, 2021-01-…\n",
      "$ ended_at           \u001b[3m\u001b[90m<dttm>\u001b[39m\u001b[23m 2021-01-23 16:24:44, 2021-01-27 18:47:12, 2021-01-…\n",
      "$ start_station_name \u001b[3m\u001b[90m<chr>\u001b[39m\u001b[23m \"California Ave & Cortez St\", \"California Ave & Cor…\n",
      "$ start_station_id   \u001b[3m\u001b[90m<chr>\u001b[39m\u001b[23m \"17660\", \"17660\", \"17660\", \"17660\", \"17660\", \"17660…\n",
      "$ end_station_name   \u001b[3m\u001b[90m<chr>\u001b[39m\u001b[23m NA, NA, NA, NA, NA, NA, NA, NA, NA, \"Wood St & Augu…\n",
      "$ end_station_id     \u001b[3m\u001b[90m<chr>\u001b[39m\u001b[23m NA, NA, NA, NA, NA, NA, NA, NA, NA, \"657\", \"13258\",…\n",
      "$ start_lat          \u001b[3m\u001b[90m<dbl>\u001b[39m\u001b[23m 41.90034, 41.90033, 41.90031, 41.90040, 41.90033, 4…\n",
      "$ start_lng          \u001b[3m\u001b[90m<dbl>\u001b[39m\u001b[23m -87.69674, -87.69671, -87.69664, -87.69666, -87.696…\n",
      "$ end_lat            \u001b[3m\u001b[90m<dbl>\u001b[39m\u001b[23m 41.89000, 41.90000, 41.90000, 41.92000, 41.90000, 4…\n",
      "$ end_lng            \u001b[3m\u001b[90m<dbl>\u001b[39m\u001b[23m -87.72000, -87.69000, -87.70000, -87.69000, -87.700…\n",
      "$ member_casual      \u001b[3m\u001b[90m<chr>\u001b[39m\u001b[23m \"member\", \"member\", \"member\", \"member\", \"casual\", \"…\n"
     ]
    }
   ],
   "source": [
    "glimpse(raw_data)"
   ]
  },
  {
   "cell_type": "code",
   "execution_count": 9,
   "id": "33b26e78-8226-4088-98ee-402d624caae6",
   "metadata": {},
   "outputs": [
    {
     "name": "stdout",
     "output_type": "stream",
     "text": [
      "Rows: 5,595,063\n",
      "Columns: 13\n",
      "$ ride_id            \u001b[3m\u001b[90m<chr>\u001b[39m\u001b[23m \"E19E6F1B8D4C42ED\", \"DC88F20C2C55F27F\", \"EC45C94683…\n",
      "$ rideable_type      \u001b[3m\u001b[90m<chr>\u001b[39m\u001b[23m \"electric_bike\", \"electric_bike\", \"electric_bike\", …\n",
      "$ started_at         \u001b[3m\u001b[90m<dttm>\u001b[39m\u001b[23m 2021-01-23 16:14:19, 2021-01-27 18:43:08, 2021-01-…\n",
      "$ ended_at           \u001b[3m\u001b[90m<dttm>\u001b[39m\u001b[23m 2021-01-23 16:24:44, 2021-01-27 18:47:12, 2021-01-…\n",
      "$ start_station_name \u001b[3m\u001b[90m<chr>\u001b[39m\u001b[23m \"California Ave & Cortez St\", \"California Ave & Cor…\n",
      "$ start_station_id   \u001b[3m\u001b[90m<chr>\u001b[39m\u001b[23m \"17660\", \"17660\", \"17660\", \"17660\", \"17660\", \"17660…\n",
      "$ end_station_name   \u001b[3m\u001b[90m<chr>\u001b[39m\u001b[23m NA, NA, NA, NA, NA, NA, NA, NA, NA, \"Wood St & Augu…\n",
      "$ end_station_id     \u001b[3m\u001b[90m<chr>\u001b[39m\u001b[23m NA, NA, NA, NA, NA, NA, NA, NA, NA, \"657\", \"13258\",…\n",
      "$ start_lat          \u001b[3m\u001b[90m<dbl>\u001b[39m\u001b[23m 41.90034, 41.90033, 41.90031, 41.90040, 41.90033, 4…\n",
      "$ start_lng          \u001b[3m\u001b[90m<dbl>\u001b[39m\u001b[23m -87.69674, -87.69671, -87.69664, -87.69666, -87.696…\n",
      "$ end_lat            \u001b[3m\u001b[90m<dbl>\u001b[39m\u001b[23m 41.89000, 41.90000, 41.90000, 41.92000, 41.90000, 4…\n",
      "$ end_lng            \u001b[3m\u001b[90m<dbl>\u001b[39m\u001b[23m -87.72000, -87.69000, -87.70000, -87.69000, -87.700…\n",
      "$ member_casual      \u001b[3m\u001b[90m<chr>\u001b[39m\u001b[23m \"member\", \"member\", \"member\", \"member\", \"casual\", \"…\n"
     ]
    }
   ],
   "source": [
    "glimpse(raw_data)"
   ]
  },
  {
   "cell_type": "code",
   "execution_count": 20,
   "id": "f9984335",
   "metadata": {},
   "outputs": [],
   "source": [
    "v = \"member_casual\""
   ]
  },
  {
   "cell_type": "code",
   "execution_count": 21,
   "id": "7ecbcb35-fee7-41f7-ab5f-980af44e2934",
   "metadata": {},
   "outputs": [
    {
     "data": {
      "text/html": [
       "<table class=\"dataframe\">\n",
       "<caption>A tibble: 1 × 1</caption>\n",
       "<thead>\n",
       "\t<tr><th scope=col>n</th></tr>\n",
       "\t<tr><th scope=col>&lt;int&gt;</th></tr>\n",
       "</thead>\n",
       "<tbody>\n",
       "\t<tr><td>2</td></tr>\n",
       "</tbody>\n",
       "</table>\n"
      ],
      "text/latex": [
       "A tibble: 1 × 1\n",
       "\\begin{tabular}{l}\n",
       " n\\\\\n",
       " <int>\\\\\n",
       "\\hline\n",
       "\t 2\\\\\n",
       "\\end{tabular}\n"
      ],
      "text/markdown": [
       "\n",
       "A tibble: 1 × 1\n",
       "\n",
       "| n &lt;int&gt; |\n",
       "|---|\n",
       "| 2 |\n",
       "\n"
      ],
      "text/plain": [
       "  n\n",
       "1 2"
      ]
     },
     "metadata": {},
     "output_type": "display_data"
    }
   ],
   "source": [
    "# allows us to look at a variable and see how many unique values there are for the value\n",
    "count(unique(raw_data[v]))"
   ]
  },
  {
   "cell_type": "code",
   "execution_count": 23,
   "id": "ffa7d0b8",
   "metadata": {},
   "outputs": [
    {
     "data": {
      "text/html": [
       "<table class=\"dataframe\">\n",
       "<caption>A tibble: 2 × 1</caption>\n",
       "<thead>\n",
       "\t<tr><th scope=col>member_casual</th></tr>\n",
       "\t<tr><th scope=col>&lt;chr&gt;</th></tr>\n",
       "</thead>\n",
       "<tbody>\n",
       "\t<tr><td>member</td></tr>\n",
       "\t<tr><td>casual</td></tr>\n",
       "</tbody>\n",
       "</table>\n"
      ],
      "text/latex": [
       "A tibble: 2 × 1\n",
       "\\begin{tabular}{l}\n",
       " member\\_casual\\\\\n",
       " <chr>\\\\\n",
       "\\hline\n",
       "\t member\\\\\n",
       "\t casual\\\\\n",
       "\\end{tabular}\n"
      ],
      "text/markdown": [
       "\n",
       "A tibble: 2 × 1\n",
       "\n",
       "| member_casual &lt;chr&gt; |\n",
       "|---|\n",
       "| member |\n",
       "| casual |\n",
       "\n"
      ],
      "text/plain": [
       "  member_casual\n",
       "1 member       \n",
       "2 casual       "
      ]
     },
     "metadata": {},
     "output_type": "display_data"
    }
   ],
   "source": [
    "# shows us the unique values for a variable\n",
    "unique(raw_data[v])"
   ]
  },
  {
   "cell_type": "code",
   "execution_count": 28,
   "id": "f10fd741",
   "metadata": {},
   "outputs": [
    {
     "data": {
      "text/html": [
       "<table class=\"dataframe\">\n",
       "<caption>A tibble: 0 × 13</caption>\n",
       "<thead>\n",
       "\t<tr><th scope=col>ride_id</th><th scope=col>rideable_type</th><th scope=col>started_at</th><th scope=col>ended_at</th><th scope=col>start_station_name</th><th scope=col>start_station_id</th><th scope=col>end_station_name</th><th scope=col>end_station_id</th><th scope=col>start_lat</th><th scope=col>start_lng</th><th scope=col>end_lat</th><th scope=col>end_lng</th><th scope=col>member_casual</th></tr>\n",
       "\t<tr><th scope=col>&lt;chr&gt;</th><th scope=col>&lt;chr&gt;</th><th scope=col>&lt;dttm&gt;</th><th scope=col>&lt;dttm&gt;</th><th scope=col>&lt;chr&gt;</th><th scope=col>&lt;chr&gt;</th><th scope=col>&lt;chr&gt;</th><th scope=col>&lt;chr&gt;</th><th scope=col>&lt;dbl&gt;</th><th scope=col>&lt;dbl&gt;</th><th scope=col>&lt;dbl&gt;</th><th scope=col>&lt;dbl&gt;</th><th scope=col>&lt;chr&gt;</th></tr>\n",
       "</thead>\n",
       "<tbody>\n",
       "</tbody>\n",
       "</table>\n"
      ],
      "text/latex": [
       "A tibble: 0 × 13\n",
       "\\begin{tabular}{lllllllllllll}\n",
       " ride\\_id & rideable\\_type & started\\_at & ended\\_at & start\\_station\\_name & start\\_station\\_id & end\\_station\\_name & end\\_station\\_id & start\\_lat & start\\_lng & end\\_lat & end\\_lng & member\\_casual\\\\\n",
       " <chr> & <chr> & <dttm> & <dttm> & <chr> & <chr> & <chr> & <chr> & <dbl> & <dbl> & <dbl> & <dbl> & <chr>\\\\\n",
       "\\hline\n",
       "\\end{tabular}\n"
      ],
      "text/markdown": [
       "\n",
       "A tibble: 0 × 13\n",
       "\n",
       "| ride_id &lt;chr&gt; | rideable_type &lt;chr&gt; | started_at &lt;dttm&gt; | ended_at &lt;dttm&gt; | start_station_name &lt;chr&gt; | start_station_id &lt;chr&gt; | end_station_name &lt;chr&gt; | end_station_id &lt;chr&gt; | start_lat &lt;dbl&gt; | start_lng &lt;dbl&gt; | end_lat &lt;dbl&gt; | end_lng &lt;dbl&gt; | member_casual &lt;chr&gt; |\n",
       "|---|---|---|---|---|---|---|---|---|---|---|---|---|\n",
       "\n"
      ],
      "text/plain": [
       "     ride_id rideable_type started_at ended_at start_station_name\n",
       "     start_station_id end_station_name end_station_id start_lat start_lng\n",
       "     end_lat end_lng member_casual"
      ]
     },
     "metadata": {},
     "output_type": "display_data"
    }
   ],
   "source": [
    "#shows all rows where a specific column returns NA\n",
    "raw_data[is.na(raw_data$member_casual), ] "
   ]
  },
  {
   "cell_type": "code",
   "execution_count": null,
   "id": "7f450e09",
   "metadata": {},
   "outputs": [],
   "source": [
    "for(i in 1:ncol(raw_data)) {       # for-loop over columns\n",
    "  v <- raw_data[ , i] \n",
    "}"
   ]
  },
  {
   "cell_type": "code",
   "execution_count": 1,
   "id": "aa851a84",
   "metadata": {},
   "outputs": [
    {
     "ename": "ERROR",
     "evalue": "Error in read_csv(\"Cleaned Data//202101-divvy-tripdata.csv\"): could not find function \"read_csv\"\n",
     "output_type": "error",
     "traceback": [
      "Error in read_csv(\"Cleaned Data//202101-divvy-tripdata.csv\"): could not find function \"read_csv\"\nTraceback:\n"
     ]
    }
   ],
   "source": [
    "cdata1 <- read_csv(\"Cleaned Data//202101-divvy-tripdata.csv\")"
   ]
  },
  {
   "cell_type": "code",
   "execution_count": null,
   "id": "0eec4bf0",
   "metadata": {},
   "outputs": [],
   "source": []
  }
 ],
 "metadata": {
  "kernelspec": {
   "display_name": "R",
   "language": "R",
   "name": "ir"
  },
  "language_info": {
   "codemirror_mode": "r",
   "file_extension": ".r",
   "mimetype": "text/x-r-source",
   "name": "R",
   "pygments_lexer": "r",
   "version": "4.2.0"
  }
 },
 "nbformat": 4,
 "nbformat_minor": 5
}
